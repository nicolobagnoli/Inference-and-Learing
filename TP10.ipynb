{
 "cells": [
  {
   "cell_type": "markdown",
   "metadata": {
    "id": "pEkeCuKvrwrR"
   },
   "source": [
    "# Part 1\n",
    "\n",
    "**What did we learn last week?**: We got a first look at PyTorch and trained a deep learning model with automatic differentiation.\n",
    "\n",
    "**What you will learn today**: We will take a closer look at Convolutional Neural Networks and understand why they are ubiquitously used. Then, we will look at the *correct* way of evaluating performance. Finally, we will explore some important hyperparameters/design decision for\n",
    "boosting performance."
   ]
  },
  {
   "cell_type": "markdown",
   "metadata": {
    "id": "OaFU7fiLrwrU"
   },
   "source": [
    "## Convolutional Neural Networks\n",
    "\n",
    "Great sources:\n",
    "- https://poloclub.github.io/cnn-explainer/\n",
    "- https://setosa.io/ev/image-kernels/\n",
    "\n",
    "![](https://poloclub.github.io/cnn-explainer/assets/figures/convlayer_detailedview_demo.gif)\n",
    "\n",
    "**Why convolutions and not fully-connected layers?** In the previous lab, we used a MultiLayer Perceptron (MLP) to perform classification on the MNIST dataset of handwritten digits. However, MLPs expect a vector as an input and, hence, our first step was to *flatten* the image; from an input of shape $(1, 28, 28)$ we got a vector of $1\\times28\\times28=784$ elements. Then, each layer of the MLP is fully connected, meaning that all $784$ elements are fed into each neuron of the next layer.\n",
    "\n",
    "Does this sound reasonable?\n",
    "\n",
    "No! First, by flattening we implicitly lose *local* information. Assume you look at pixel in location $(5,5)$, then the neighboring pixels $(4,5),(6,5), (5,4), (5,6),\\dots$ are important and must be \"somewhat similar\". Second, by using all elements of the previous layer. the top left and bottom right pixels are used in the same computation.\n",
    "\n",
    "Convolutional Neural Networks address these (and more) concerns and are suitable for the image domain. But, what are convolutions? We start with a small matrix of weights, e.g. $3\\times3$, which is called a kernel. The kernel is then slided over the 2d input and we perform elementwise multiplication with the values the kernel is currently on. The summation of the $3\\times3=9$ elements is the output for the pixel. Hence, the kernel performs a \"local\" computation. *Back in the day*, kernels were hand-designed to perform a specific operation. For example, the Sobel operator is used for edge-detection:\n",
    "\n",
    "$$\n",
    "\\mathbf{G}_x=\\left[\\begin{array}{ccc}\n",
    "+1 & 0 & -1 \\\\\n",
    "+2 & 0 & -2 \\\\\n",
    "+1 & 0 & -1\n",
    "\\end{array}\\right] * \\mathbf{A} \\quad \\text { and } \\quad \\mathbf{G}_y=\\left[\\begin{array}{ccc}\n",
    "+1 & +2 & +1 \\\\\n",
    "0 & 0 & 0 \\\\\n",
    "-1 & -2 & -1\n",
    "\\end{array}\\right] * \\mathbf{A}\n",
    "$$\n",
    "\n",
    "$$\n",
    "\\mathbf{G}=\\sqrt{\\mathbf{G}_x^2+\\mathbf{G}_y^2}\n",
    "$$\n",
    "\n",
    "For example:\n",
    "\n",
    "![](https://miro.medium.com/max/640/1*m9XHMKQPY6mKYsaykuVAsw.webp)\n",
    "\n",
    "Creating filters for every different scenario requires domain knowledge and is cumbersome. (Convolutional) Neural Networks learn the values of these filters in an \"end-to-end\" manner!"
   ]
  },
  {
   "cell_type": "code",
   "execution_count": 23,
   "metadata": {
    "colab": {
     "base_uri": "https://localhost:8080/"
    },
    "executionInfo": {
     "elapsed": 422,
     "status": "ok",
     "timestamp": 1701184497103,
     "user": {
      "displayName": "Davide Ghio",
      "userId": "11962714808641352630"
     },
     "user_tz": -60
    },
    "id": "iO1w6XxLrwrU",
    "outputId": "3a08a9e8-4fe7-428e-a3dc-9f52f1351676"
   },
   "outputs": [
    {
     "name": "stdout",
     "output_type": "stream",
     "text": [
      "The autoreload extension is already loaded. To reload it, use:\n",
      "  %reload_ext autoreload\n"
     ]
    }
   ],
   "source": [
    "%load_ext autoreload\n",
    "%autoreload 2"
   ]
  },
  {
   "cell_type": "code",
   "execution_count": 24,
   "metadata": {
    "executionInfo": {
     "elapsed": 4476,
     "status": "ok",
     "timestamp": 1701184502232,
     "user": {
      "displayName": "Davide Ghio",
      "userId": "11962714808641352630"
     },
     "user_tz": -60
    },
    "id": "jeANxtrirwrV"
   },
   "outputs": [
    {
     "name": "stdout",
     "output_type": "stream",
     "text": [
      "Looking in indexes: https://download.pytorch.org/whl/cu118\n",
      "Requirement already satisfied: torch in c:\\users\\nicol\\appdata\\local\\programs\\python\\python312\\lib\\site-packages (2.5.1+cu118)\n",
      "Requirement already satisfied: torchvision in c:\\users\\nicol\\appdata\\local\\programs\\python\\python312\\lib\\site-packages (0.20.1)\n",
      "Requirement already satisfied: torchaudio in c:\\users\\nicol\\appdata\\local\\programs\\python\\python312\\lib\\site-packages (2.5.1+cu118)\n",
      "Requirement already satisfied: filelock in c:\\users\\nicol\\appdata\\local\\programs\\python\\python312\\lib\\site-packages (from torch) (3.16.1)\n",
      "Requirement already satisfied: typing-extensions>=4.8.0 in c:\\users\\nicol\\appdata\\local\\programs\\python\\python312\\lib\\site-packages (from torch) (4.12.2)\n",
      "Requirement already satisfied: networkx in c:\\users\\nicol\\appdata\\local\\programs\\python\\python312\\lib\\site-packages (from torch) (3.4.2)\n",
      "Requirement already satisfied: jinja2 in c:\\users\\nicol\\appdata\\local\\programs\\python\\python312\\lib\\site-packages (from torch) (3.1.4)\n",
      "Requirement already satisfied: fsspec in c:\\users\\nicol\\appdata\\local\\programs\\python\\python312\\lib\\site-packages (from torch) (2024.10.0)\n",
      "Requirement already satisfied: setuptools in c:\\users\\nicol\\appdata\\local\\programs\\python\\python312\\lib\\site-packages (from torch) (70.0.0)\n",
      "Requirement already satisfied: sympy==1.13.1 in c:\\users\\nicol\\appdata\\local\\programs\\python\\python312\\lib\\site-packages (from torch) (1.13.1)\n",
      "Requirement already satisfied: mpmath<1.4,>=1.1.0 in c:\\users\\nicol\\appdata\\local\\programs\\python\\python312\\lib\\site-packages (from sympy==1.13.1->torch) (1.3.0)\n",
      "Requirement already satisfied: numpy in c:\\users\\nicol\\appdata\\local\\programs\\python\\python312\\lib\\site-packages (from torchvision) (1.26.4)\n",
      "Requirement already satisfied: pillow!=8.3.*,>=5.3.0 in c:\\users\\nicol\\appdata\\local\\programs\\python\\python312\\lib\\site-packages (from torchvision) (10.3.0)\n",
      "Requirement already satisfied: MarkupSafe>=2.0 in c:\\users\\nicol\\appdata\\local\\programs\\python\\python312\\lib\\site-packages (from jinja2->torch) (3.0.2)\n"
     ]
    }
   ],
   "source": [
    "!pip install torch torchvision torchaudio --index-url https://download.pytorch.org/whl/cu118\n",
    "\n",
    "# import our \"local\" library of functions\n",
    "from training_utils import train_epoch, fit, predict, visualize_images, plot_loss\n",
    "\n",
    "# also import everything else that we need\n",
    "import torch\n",
    "import torch.nn as nn\n",
    "import torchvision\n",
    "from torch.utils.data import DataLoader\n",
    "import matplotlib.pyplot as plt"
   ]
  },
  {
   "cell_type": "code",
   "execution_count": 25,
   "metadata": {
    "colab": {
     "base_uri": "https://localhost:8080/"
    },
    "executionInfo": {
     "elapsed": 366,
     "status": "ok",
     "timestamp": 1701184606611,
     "user": {
      "displayName": "Davide Ghio",
      "userId": "11962714808641352630"
     },
     "user_tz": -60
    },
    "id": "Z_XF2A2NrwrV",
    "outputId": "cfe19bdb-2d38-4659-97c5-15bed15125a6"
   },
   "outputs": [
    {
     "name": "stdout",
     "output_type": "stream",
     "text": [
      "cuda\n"
     ]
    }
   ],
   "source": [
    "import torch\n",
    "\n",
    "# define the hyperparameters\n",
    "BATCH_SIZE = 1024          #usually a number that is a power of 2 is chosen for the batch size because it is more efficient for the GPU\n",
    "TEST_BATCH_SIZE = 1024\n",
    "LEARNING_RATE = 0.01\n",
    "\n",
    "# find out which device is available\n",
    "DEVICE = None\n",
    "if torch.cuda.is_available():\n",
    "    # Requires NVIDIA GPU with CUDA installed\n",
    "    DEVICE = torch.device(\"cuda\")\n",
    "elif torch.mps.is_available():\n",
    "    # Requires Apple computer with M1 or later chip\n",
    "    DEVICE = torch.device(\"mps\")\n",
    "else:\n",
    "    # Not recommended, because it's slow. Move to Google Colab!\n",
    "    DEVICE = torch.device(\"cpu\")\n",
    "\n",
    "print(DEVICE)"
   ]
  },
  {
   "cell_type": "code",
   "execution_count": 26,
   "metadata": {
    "colab": {
     "base_uri": "https://localhost:8080/"
    },
    "executionInfo": {
     "elapsed": 1049,
     "status": "ok",
     "timestamp": 1701184503279,
     "user": {
      "displayName": "Davide Ghio",
      "userId": "11962714808641352630"
     },
     "user_tz": -60
    },
    "id": "NHm83SQRrwrW",
    "outputId": "1a2558da-73a0-45bb-b53a-e31f410a1de5"
   },
   "outputs": [],
   "source": [
    "#we nee to import torchvision to load the MNIST dataset\n",
    "import torchvision\n",
    "#we need to import DataLoader to load the data in batches\n",
    "from torch.utils.data import DataLoader\n",
    "\n",
    "\n",
    "transform = torchvision.transforms.ToTensor()\n",
    "\n",
    "# load the train dataset\n",
    "train_dataset = torchvision.datasets.MNIST(\n",
    "    root='./data/',\n",
    "    train=True,\n",
    "    download=True,\n",
    "    transform=transform)\n",
    "\n",
    "# load the test dataset\n",
    "test_dataset = torchvision.datasets.MNIST(\n",
    "    root='./data/',\n",
    "    train=False,\n",
    "    download=True,\n",
    "    transform=transform)\n",
    "\n",
    "train_dataloader = DataLoader(\n",
    "    dataset=train_dataset,\n",
    "    batch_size=BATCH_SIZE,\n",
    "    shuffle=True,\n",
    "    num_workers=2)\n",
    "\n",
    "\n",
    "test_dataloader = DataLoader(\n",
    "    dataset=test_dataset,\n",
    "    batch_size=TEST_BATCH_SIZE,\n",
    "    shuffle=False,\n",
    "    num_workers=2)"
   ]
  },
  {
   "cell_type": "code",
   "execution_count": 27,
   "metadata": {
    "colab": {
     "base_uri": "https://localhost:8080/",
     "height": 278
    },
    "executionInfo": {
     "elapsed": 769,
     "status": "ok",
     "timestamp": 1701184504045,
     "user": {
      "displayName": "Davide Ghio",
      "userId": "11962714808641352630"
     },
     "user_tz": -60
    },
    "id": "q89MeDxsrwrW",
    "outputId": "0e08bd9e-53be-4cc6-db7a-ab09da9e653f"
   },
   "outputs": [
    {
     "data": {
      "image/png": "[encoded data removed]",
      "text/plain": [
       "<Figure size 640x480 with 1 Axes>"
      ]
     },
     "metadata": {},
     "output_type": "display_data"
    }
   ],
   "source": [
    "from training_utils import visualize_images\n",
    "\n",
    "visualize_images(train_dataloader)"
   ]
  },
  {
   "cell_type": "code",
   "execution_count": 28,
   "metadata": {
    "executionInfo": {
     "elapsed": 3,
     "status": "ok",
     "timestamp": 1701184504549,
     "user": {
      "displayName": "Davide Ghio",
      "userId": "11962714808641352630"
     },
     "user_tz": -60
    },
    "id": "43PwB961rwrW"
   },
   "outputs": [],
   "source": [
    "class CNN(nn.Module):\n",
    "    def __init__(self):\n",
    "        super().__init__()\n",
    "\n",
    "        # We use a Sequential, i.e. the inputs passes through each of\n",
    "        # the modules below, one-by-one\n",
    "        self.conv = nn.Sequential(\n",
    "            nn.Conv2d(\n",
    "                in_channels=1,\n",
    "                out_channels=16,\n",
    "                kernel_size=3,\n",
    "                stride=1,\n",
    "                padding=1,\n",
    "            ),\n",
    "            nn.ReLU(),\n",
    "            nn.MaxPool2d(kernel_size=2),\n",
    "            nn.Conv2d(\n",
    "                in_channels=16,\n",
    "                out_channels=32,\n",
    "                kernel_size=3,\n",
    "                stride=1,\n",
    "                padding=1),\n",
    "            nn.ReLU(),\n",
    "            nn.MaxPool2d(2),\n",
    "        )\n",
    "\n",
    "        # fully connected layer, output 10 classes\n",
    "        self.out = nn.Linear(1568, 10)\n",
    "\n",
    "    def forward(self, x):\n",
    "        x = self.conv(x)\n",
    "        x = x.view(x.size(0), -1) #reshape the tensor\n",
    "        x = self.out(x)\n",
    "        return x\n"
   ]
  },
  {
   "cell_type": "code",
   "execution_count": 29,
   "metadata": {
    "colab": {
     "base_uri": "https://localhost:8080/"
    },
    "executionInfo": {
     "elapsed": 74697,
     "status": "ok",
     "timestamp": 1701105460943,
     "user": {
      "displayName": "Davide Ghio",
      "userId": "11962714808641352630"
     },
     "user_tz": -60
    },
    "id": "Gf1_j24qrwrW",
    "outputId": "cf5e21f0-34d0-47a8-82cc-b22a67e47411"
   },
   "outputs": [
    {
     "name": "stdout",
     "output_type": "stream",
     "text": [
      "Epoch 0: Loss=1.5194903733366627\n",
      "Epoch 1: Loss=0.46563439955145625\n",
      "Epoch 2: Loss=0.2696152786582203\n",
      "Epoch 3: Loss=0.20317487544932608\n",
      "Epoch 4: Loss=0.16814565759594158\n",
      "Epoch 5: Loss=0.14524164707478832\n",
      "Epoch 6: Loss=0.12652455270290375\n",
      "Epoch 7: Loss=0.11672015563916352\n",
      "Epoch 8: Loss=0.10599584839606689\n",
      "Epoch 9: Loss=0.09819453367489879\n",
      "Test set: Avg. loss: 0.0945, Accuracy: 9715/10000 (97%)\n"
     ]
    },
    {
     "data": {
      "text/plain": [
       "(0.09449142074584961, tensor(97.1500, device='cuda:0'))"
      ]
     },
     "execution_count": 29,
     "metadata": {},
     "output_type": "execute_result"
    }
   ],
   "source": [
    "from training_utils import fit\n",
    "from training_utils import predict\n",
    "\n",
    "# initialize model\n",
    "cnn = CNN().to(DEVICE)\n",
    "\n",
    "# define the optimizer\n",
    "optimizer = torch.optim.SGD(cnn.parameters(), lr=0.1)\n",
    "\n",
    "# train the CNN\n",
    "losses = fit(\n",
    "    model=cnn,\n",
    "    train_dataloader=train_dataloader,\n",
    "    optimizer=optimizer,\n",
    "    epochs=10,\n",
    "    device=DEVICE\n",
    ")\n",
    "\n",
    "predict(model=cnn, test_dataloader=test_dataloader, device=DEVICE)"
   ]
  },
  {
   "cell_type": "markdown",
   "metadata": {
    "id": "IxmTE0vzrwrW"
   },
   "source": [
    "## CIFAR10"
   ]
  },
  {
   "cell_type": "code",
   "execution_count": 30,
   "metadata": {
    "colab": {
     "base_uri": "https://localhost:8080/"
    },
    "executionInfo": {
     "elapsed": 9711,
     "status": "ok",
     "timestamp": 1701184519284,
     "user": {
      "displayName": "Davide Ghio",
      "userId": "11962714808641352630"
     },
     "user_tz": -60
    },
    "id": "tJw3IVtWrwrX",
    "outputId": "6f5529c9-04ad-4e91-a26c-178fa7f18bf7"
   },
   "outputs": [
    {
     "name": "stdout",
     "output_type": "stream",
     "text": [
      "Files already downloaded and verified\n",
      "Files already downloaded and verified\n"
     ]
    }
   ],
   "source": [
    "transform = torchvision.transforms.ToTensor()\n",
    "\n",
    "# load the train dataset\n",
    "train_dataset = torchvision.datasets.CIFAR10(\n",
    "    root='./data/',\n",
    "    train=True,\n",
    "    download=True,\n",
    "    transform=transform)\n",
    "\n",
    "# load the test dataset\n",
    "test_dataset = torchvision.datasets.CIFAR10(\n",
    "    root='./data/',\n",
    "    train=False,\n",
    "    download=True,\n",
    "    transform=transform)\n",
    "\n",
    "train_dataloader = DataLoader(\n",
    "    dataset=train_dataset,\n",
    "    batch_size=BATCH_SIZE,\n",
    "    shuffle=True,\n",
    "    num_workers=2)\n",
    "\n",
    "\n",
    "test_dataloader = DataLoader(\n",
    "    dataset=test_dataset,\n",
    "    batch_size=TEST_BATCH_SIZE,\n",
    "    shuffle=False,\n",
    "    num_workers=2)"
   ]
  },
  {
   "cell_type": "code",
   "execution_count": 31,
   "metadata": {
    "colab": {
     "base_uri": "https://localhost:8080/",
     "height": 277
    },
    "executionInfo": {
     "elapsed": 971,
     "status": "ok",
     "timestamp": 1701184520253,
     "user": {
      "displayName": "Davide Ghio",
      "userId": "11962714808641352630"
     },
     "user_tz": -60
    },
    "id": "K_XBTPrArwrX",
    "outputId": "e7e23fec-6ab3-4d87-c94d-1e344db38aaf"
   },
   "outputs": [
    {
     "data": {
      "image/png": "[encoded data removed]",
      "text/plain": [
       "<Figure size 640x480 with 1 Axes>"
      ]
     },
     "metadata": {},
     "output_type": "display_data"
    }
   ],
   "source": [
    "visualize_images(train_dataloader)"
   ]
  },
  {
   "cell_type": "code",
   "execution_count": 32,
   "metadata": {
    "colab": {
     "base_uri": "https://localhost:8080/"
    },
    "executionInfo": {
     "elapsed": 75458,
     "status": "ok",
     "timestamp": 1701105559476,
     "user": {
      "displayName": "Davide Ghio",
      "userId": "11962714808641352630"
     },
     "user_tz": -60
    },
    "id": "hzWeU1u4rwrX",
    "outputId": "8264e592-699a-4936-dc40-ecddfa79f1aa"
   },
   "outputs": [
    {
     "name": "stdout",
     "output_type": "stream",
     "text": [
      "Epoch 0: Loss=2.221339678277775\n",
      "Epoch 1: Loss=2.1187497693665174\n",
      "Epoch 2: Loss=2.0365099225725447\n",
      "Epoch 3: Loss=1.9294477701187134\n",
      "Epoch 4: Loss=1.8544620397139568\n",
      "Epoch 5: Loss=1.7782296282904488\n",
      "Epoch 6: Loss=1.7057102529370054\n",
      "Epoch 7: Loss=1.6475430386407035\n",
      "Epoch 8: Loss=1.5947820994318749\n",
      "Epoch 9: Loss=1.5529618238916203\n",
      "Test set: Avg. loss: 1.5895, Accuracy: 4260/10000 (43%)\n"
     ]
    },
    {
     "data": {
      "text/plain": [
       "(1.589457568359375, tensor(42.6000, device='cuda:0'))"
      ]
     },
     "execution_count": 32,
     "metadata": {},
     "output_type": "execute_result"
    }
   ],
   "source": [
    "class CifarCNN(nn.Module):\n",
    "    def __init__(self):\n",
    "        super().__init__()\n",
    "\n",
    "        # We use a Sequential, i.e. the inputs passes through each of\n",
    "        # the modules below, one-by-one\n",
    "        self.conv = nn.Sequential(\n",
    "            nn.Conv2d(\n",
    "                in_channels=3, #COLORED IMAGES!\n",
    "                out_channels=16,\n",
    "                kernel_size=3,\n",
    "                stride=1,\n",
    "                padding=1,\n",
    "            ),\n",
    "            nn.ReLU(),\n",
    "            nn.MaxPool2d(kernel_size=2),\n",
    "            nn.Conv2d(\n",
    "                in_channels=16,\n",
    "                out_channels=32,\n",
    "                kernel_size=3,\n",
    "                stride=1,\n",
    "                padding=1),\n",
    "            nn.ReLU(),\n",
    "            nn.MaxPool2d(2),\n",
    "        )\n",
    "\n",
    "        # fully connected layer, output 10 classes\n",
    "        self.out = nn.Linear(2048, 10) #Now is 32x32 images!\n",
    "\n",
    "    def forward(self, x):\n",
    "        x = self.conv(x)\n",
    "        x = x.view(x.size(0), -1)\n",
    "        x = self.out(x)\n",
    "        return x\n",
    "\n",
    "cnn_cifar = CifarCNN().to(DEVICE)\n",
    "\n",
    "# define the optimizer\n",
    "optimizer = torch.optim.SGD(cnn_cifar.parameters(), lr=0.1)\n",
    "\n",
    "\n",
    "# train the CNN\n",
    "losses = fit(\n",
    "    model=cnn_cifar,\n",
    "    train_dataloader=train_dataloader,\n",
    "    optimizer=optimizer,\n",
    "    epochs=10,\n",
    "    device=DEVICE\n",
    ")\n",
    "\n",
    "predict(model=cnn_cifar, test_dataloader=test_dataloader, device=DEVICE)"
   ]
  },
  {
   "cell_type": "markdown",
   "metadata": {
    "id": "qaDaK-jGrwrX"
   },
   "source": [
    "**Takeaways**: CIfar10 is a more complex dataset than MNIST; the images are larger and RGB, the model is larger and a simple training scheme returns very bad results! How can we change this?"
   ]
  },
  {
   "cell_type": "markdown",
   "metadata": {
    "id": "VWDYxnhxrwrX"
   },
   "source": [
    "## Validation set (HERE WE GO BACK TO MNIST)\n",
    "\n",
    "Before looking into tips and tricks for boosting the performance of a model, we need to establish a proper evaluation protocol. This is where the validation set comes in.\n",
    "\n",
    "In the real world, we do not have access to the test set, e.g., customer churning or self-driving cars. But, still, we need to evaluate the performance of our models on *unseen data*. The most common way is to split the training set into training+validation."
   ]
  },
  {
   "cell_type": "code",
   "execution_count": 33,
   "metadata": {
    "colab": {
     "base_uri": "https://localhost:8080/"
    },
    "executionInfo": {
     "elapsed": 8,
     "status": "ok",
     "timestamp": 1701184520253,
     "user": {
      "displayName": "Davide Ghio",
      "userId": "11962714808641352630"
     },
     "user_tz": -60
    },
    "id": "g-ve1ySyrwrX",
    "outputId": "cb4c36bc-60bb-4ddf-cfad-27811a5cbd26"
   },
   "outputs": [
    {
     "name": "stdout",
     "output_type": "stream",
     "text": [
      "Dataset MNIST\n",
      "    Number of datapoints: 60000\n",
      "    Root location: ./data/\n",
      "    Split: Train\n",
      "    StandardTransform\n",
      "Transform: ToTensor()\n",
      "<torch.utils.data.dataset.Subset object at 0x0000021D13B27A10>\n"
     ]
    }
   ],
   "source": [
    "# load the train dataset\n",
    "train_dataset = torchvision.datasets.MNIST(\n",
    "    root='./data/',\n",
    "    train=True,\n",
    "    download=True,\n",
    "    transform=transform)\n",
    "\n",
    "# load the test dataset\n",
    "test_dataset = torchvision.datasets.MNIST(\n",
    "    root='./data/',\n",
    "    train=False,\n",
    "    download=True,\n",
    "    transform=transform)\n",
    "\n",
    "print(train_dataset)\n",
    "\n",
    "# Split the dataset into 50k-10k samples for training-validation.\n",
    "from torch.utils.data import random_split\n",
    "train_dataset,  valid_dataset = random_split(\n",
    "    train_dataset,\n",
    "    lengths=[50000, 10000],\n",
    "    generator=torch.Generator().manual_seed(42) #use a generator to insure reproducibilty\n",
    ")\n",
    "\n",
    "# what is the type of the \"new\" training dataset?\n",
    "print(train_dataset)"
   ]
  },
  {
   "cell_type": "code",
   "execution_count": 34,
   "metadata": {
    "executionInfo": {
     "elapsed": 5,
     "status": "ok",
     "timestamp": 1701184520253,
     "user": {
      "displayName": "Davide Ghio",
      "userId": "11962714808641352630"
     },
     "user_tz": -60
    },
    "id": "O6Sqa6nOrwrX"
   },
   "outputs": [],
   "source": [
    "train_dataloader = DataLoader(\n",
    "    dataset=train_dataset,\n",
    "    batch_size=BATCH_SIZE,\n",
    "    shuffle=True,\n",
    "    num_workers=2)\n",
    "\n",
    "valid_dataloader = DataLoader(\n",
    "    dataset=valid_dataset,\n",
    "    batch_size=TEST_BATCH_SIZE,\n",
    "    shuffle=False,\n",
    "    num_workers=2)\n",
    "\n",
    "test_dataloader = DataLoader(\n",
    "    dataset=test_dataset,\n",
    "    batch_size=TEST_BATCH_SIZE,\n",
    "    shuffle=False,\n",
    "    num_workers=2)"
   ]
  },
  {
   "cell_type": "markdown",
   "metadata": {
    "id": "ffXBm9KErwrY"
   },
   "source": [
    "**Question** Modify the fit function to also use a validation set."
   ]
  },
  {
   "cell_type": "code",
   "execution_count": 35,
   "metadata": {},
   "outputs": [],
   "source": [
    "#---------OLD FIT FUNCTION----------------\n",
    "\n",
    "#def fit(model: nn.Module,train_dataloader: DataLoader,optimizer: torch.optim.Optimizer, epochs: int,device: torch.device,):\n",
    "#    \"\"\"\n",
    "#    the fit method simply calls the train_epoch() method for a\n",
    "#    specified number of epochs.\n",
    "#    \"\"\"\n",
    "\n",
    "    # keep track of the losses in order to visualize them later\n",
    "#    losses = []\n",
    "#    for epoch in range(epochs):\n",
    "#        running_loss = train_epoch(\n",
    "#            model=model,\n",
    "#            train_dataloader=train_dataloader,\n",
    "#            optimizer=optimizer,\n",
    "#            device=device,\n",
    "#        )\n",
    "#        print(f\"Epoch {epoch}: Loss={running_loss}\")\n",
    "#        losses.append(running_loss)\n",
    "\n",
    "#    return losses\n",
    "\n",
    "#---------NEW FIT FUNCTION----------------\n",
    "\n",
    "def fit(model: nn.Module, train_dataloader: DataLoader, valid_dataloader: DataLoader, optimizer: torch.optim.Optimizer, num_epochs: int, device: torch.device):\n",
    "\n",
    "    # we need two extra metrics to keep track of the validation loss and accuracy\n",
    "    training_losses, validation_losses, validation_accuracies = [], [], []\n",
    "\n",
    "    for epoch in range(num_epochs):  # loop over the dataset multiple times\n",
    "        train_loss = train_epoch(model=model, train_dataloader=train_dataloader, optimizer=optimizer, device=device)\n",
    "\n",
    "        #evaluate the model on the validation set\n",
    "        val_loss, val_accuracy = predict(model, valid_dataloader, device, verbose=False)\n",
    "        validation_losses.append(val_loss)\n",
    "        validation_accuracies.append(val_accuracy)\n",
    "\n",
    "        #print progress\n",
    "        print(f\"Epoch {epoch + 1}: Train Loss = {train_loss:.4f}, \"\n",
    "              f\"Val Loss = {val_loss:.4f}, Val Accuracy = {val_accuracy:.4f}\")\n",
    "\n",
    "    \n",
    "    return training_losses, validation_losses, validation_accuracies\n"
   ]
  },
  {
   "cell_type": "markdown",
   "metadata": {
    "id": "I5D4skVXrwrY"
   },
   "source": [
    "## Importance of optimizer and learning rate\n",
    "\n",
    "So far in this lab, we have used the same learning rate and optimizer (vanilla SGD). However, the choice of optimizer and the corresponding hyperparameters play a crucial role in the end performance."
   ]
  },
  {
   "cell_type": "markdown",
   "metadata": {
    "id": "_ULjqysLrwrY"
   },
   "source": [
    "### Learning rate\n",
    "**Question** Explore the exact same experiment as before BUT change the learning rate to $0.001$. How does this change affect performance?"
   ]
  },
  {
   "cell_type": "code",
   "execution_count": 36,
   "metadata": {},
   "outputs": [
    {
     "name": "stdout",
     "output_type": "stream",
     "text": [
      "Epoch 1: Train Loss = 2.3073, Val Loss = 2.3033, Val Accuracy = 6.7500\n",
      "Epoch 2: Train Loss = 2.3003, Val Loss = 2.2966, Val Accuracy = 7.5900\n",
      "Epoch 3: Train Loss = 2.2937, Val Loss = 2.2900, Val Accuracy = 8.7300\n",
      "Epoch 4: Train Loss = 2.2872, Val Loss = 2.2836, Val Accuracy = 11.4500\n",
      "Epoch 5: Train Loss = 2.2807, Val Loss = 2.2771, Val Accuracy = 15.3400\n",
      "Epoch 6: Train Loss = 2.2742, Val Loss = 2.2705, Val Accuracy = 19.0200\n",
      "Epoch 7: Train Loss = 2.2675, Val Loss = 2.2637, Val Accuracy = 21.4800\n",
      "Epoch 8: Train Loss = 2.2606, Val Loss = 2.2566, Val Accuracy = 23.9900\n",
      "Epoch 9: Train Loss = 2.2533, Val Loss = 2.2491, Val Accuracy = 28.0600\n",
      "Epoch 10: Train Loss = 2.2457, Val Loss = 2.2413, Val Accuracy = 33.1600\n",
      "Test set: Avg. loss: 2.2399, Accuracy: 3387/10000 (34%)\n"
     ]
    },
    {
     "data": {
      "text/plain": [
       "(2.239931750488281, tensor(33.8700, device='cuda:0'))"
      ]
     },
     "execution_count": 36,
     "metadata": {},
     "output_type": "execute_result"
    }
   ],
   "source": [
    "cnn = CNN().to(DEVICE)\n",
    "\n",
    "opt = torch.optim.SGD(cnn.parameters(), lr=0.001)\n",
    "\n",
    "train_losses, valid_losses, valid_accs = fit(model=cnn, train_dataloader=train_dataloader, valid_dataloader=valid_dataloader, optimizer=opt, num_epochs=10, device=DEVICE)\n",
    "\n",
    "predict(model=cnn, test_dataloader=test_dataloader, device=DEVICE)"
   ]
  },
  {
   "cell_type": "markdown",
   "metadata": {
    "id": "nUTLSGAC6pmO"
   },
   "source": [
    "**Question** Now try with a higher learning rate ($\\eta\\geq0.5$), describe (qualitative) what happens."
   ]
  },
  {
   "cell_type": "code",
   "execution_count": 37,
   "metadata": {},
   "outputs": [
    {
     "name": "stdout",
     "output_type": "stream",
     "text": [
      "Epoch 1: Train Loss = 2.4222, Val Loss = 2.3009, Val Accuracy = 11.2900\n",
      "Epoch 2: Train Loss = 2.2840, Val Loss = 2.3009, Val Accuracy = 11.2900\n",
      "Epoch 3: Train Loss = 2.3015, Val Loss = 2.3009, Val Accuracy = 11.2900\n",
      "Epoch 4: Train Loss = 2.3016, Val Loss = 2.3009, Val Accuracy = 11.2900\n",
      "Epoch 5: Train Loss = 2.3015, Val Loss = 2.3007, Val Accuracy = 11.2900\n",
      "Epoch 6: Train Loss = 2.3016, Val Loss = 2.3007, Val Accuracy = 11.2900\n",
      "Epoch 7: Train Loss = 2.3016, Val Loss = 2.3010, Val Accuracy = 11.2900\n",
      "Epoch 8: Train Loss = 2.3015, Val Loss = 2.3009, Val Accuracy = 11.2900\n",
      "Epoch 9: Train Loss = 2.3015, Val Loss = 2.3013, Val Accuracy = 11.2900\n",
      "Epoch 10: Train Loss = 2.3016, Val Loss = 2.3008, Val Accuracy = 11.2900\n",
      "Test set: Avg. loss: 2.3010, Accuracy: 1135/10000 (11%)\n"
     ]
    },
    {
     "data": {
      "text/plain": [
       "(2.30098837890625, tensor(11.3500, device='cuda:0'))"
      ]
     },
     "execution_count": 37,
     "metadata": {},
     "output_type": "execute_result"
    }
   ],
   "source": [
    "cnn = CNN().to(DEVICE)\n",
    "\n",
    "opt = torch.optim.SGD(cnn.parameters(), lr=1)\n",
    "\n",
    "train_losses, valid_losses, valid_accs = fit(model=cnn, train_dataloader=train_dataloader, valid_dataloader=valid_dataloader, optimizer=opt, num_epochs=10, device=DEVICE)\n",
    "\n",
    "predict(model=cnn, test_dataloader=test_dataloader, device=DEVICE)"
   ]
  },
  {
   "cell_type": "markdown",
   "metadata": {},
   "source": [
    "It looks like the model has problems converging and is stuck in a poor local minima at this point."
   ]
  },
  {
   "cell_type": "markdown",
   "metadata": {
    "id": "AE-bh1Sox_Ve"
   },
   "source": [
    "### Optimizer\n",
    "\n",
    "In this lab we have used (mini-batch) Stochastic Gradient Descent or simply SGD. For simplicity we consider the case for only one sample. The update rule is the following:\n",
    "\n",
    "$$\n",
    "\\mathbf{w}^{(\\tau+1)} \\gets \\mathbf{w}^{(\\tau)} - \\eta\\nabla L\\left(\\mathbf{x}, y;\\mathbf{w}^{(\\tau)}\\right)\n",
    "$$\n",
    "\n",
    "How can we improve our algorithm and encourage faster convergence? Momentum can actually help. The idea is simple: we will use the update made on the previous step and incorporate it to our current update, giving momentum to our algorithm. The actual update rule is the following:\n",
    "\n",
    "$$\n",
    "\\begin{align}\n",
    "\\mathbf{v}^{(\\tau+1)} &\\gets \\gamma\\mathbf{v}^{(\\tau)} + \\nabla L\\left(\\mathbf{x}, y;\\mathbf{w}^{(\\tau)}\\right)\n",
    "\\\\\n",
    "\\mathbf{w}^{(\\tau+1)} &\\gets \\mathbf{w}^{(\\tau)} - \\eta \\mathbf{v}^{(\\tau)}\n",
    "\\end{align}\n",
    "$$\n",
    "\n",
    "Apart from making convergence faster, momentum has other benefits:\n",
    "* dampens oscillations\n",
    "* helps us navigate ravines around local optima [1]\n",
    "\n",
    "If you are more interested in the various optimizers take a look at reference [1].\n",
    "\n",
    "----\n",
    "[1] Ruder, S., 2016. An overview of gradient descent optimization algorithms. arXiv preprint arXiv:1609.04747.\n",
    "\n"
   ]
  },
  {
   "cell_type": "markdown",
   "metadata": {
    "id": "42jQ7lsJA55P"
   },
   "source": [
    "**Question** Implement momentum and compute the learning curve. How does this change affect performance? I decided to rebuild all the functions to differentiate them form the ones I import."
   ]
  },
  {
   "cell_type": "code",
   "execution_count": 38,
   "metadata": {},
   "outputs": [
    {
     "name": "stdout",
     "output_type": "stream",
     "text": [
      "Epoch 1: Train Loss = 2.2900, Val Loss = 2.2693, Val Accuracy = 19.0100\n",
      "Epoch 2: Train Loss = 2.2429, Val Loss = 2.2094, Val Accuracy = 47.3400\n",
      "Epoch 3: Train Loss = 2.1572, Val Loss = 2.0853, Val Accuracy = 61.6900\n",
      "Epoch 4: Train Loss = 1.9595, Val Loss = 1.7833, Val Accuracy = 68.6300\n",
      "Epoch 5: Train Loss = 1.5130, Val Loss = 1.2088, Val Accuracy = 74.7000\n",
      "Epoch 6: Train Loss = 0.9695, Val Loss = 0.7895, Val Accuracy = 79.1600\n",
      "Epoch 7: Train Loss = 0.6837, Val Loss = 0.6141, Val Accuracy = 83.0500\n",
      "Epoch 8: Train Loss = 0.5572, Val Loss = 0.5277, Val Accuracy = 85.2300\n",
      "Epoch 9: Train Loss = 0.4898, Val Loss = 0.4760, Val Accuracy = 86.4200\n",
      "Epoch 10: Train Loss = 0.4472, Val Loss = 0.4435, Val Accuracy = 87.1200\n",
      "Test set: Avg. loss: 0.4173, Accuracy: 8832/10000 (88%)\n"
     ]
    },
    {
     "data": {
      "text/plain": [
       "(0.41727274322509766, tensor(88.3200, device='cuda:0'))"
      ]
     },
     "execution_count": 38,
     "metadata": {},
     "output_type": "execute_result"
    }
   ],
   "source": [
    "cnn = CNN().to(DEVICE)\n",
    "\n",
    "opt = torch.optim.SGD(cnn.parameters(), lr=0.001, momentum=0.9)\n",
    "\n",
    "train_losses, valid_losses, valid_accs = fit(model=cnn, train_dataloader=train_dataloader, valid_dataloader=valid_dataloader, optimizer=opt, num_epochs=10, device=DEVICE)\n",
    "\n",
    "predict(model=cnn, test_dataloader=test_dataloader, device=DEVICE)\n"
   ]
  },
  {
   "cell_type": "markdown",
   "metadata": {},
   "source": [
    "Performance is now really good."
   ]
  },
  {
   "cell_type": "markdown",
   "metadata": {
    "id": "7YwJlhKqrwrY"
   },
   "source": [
    "## Hyperparameters: Learning rate and batch size\n",
    "\n",
    "While intution can help us select the settings of an experiment, the choice becomes complicated when more and more hyperparameters need to be taken account. Just to name a few, we might want to select learning rate, momentum or optimizer, batch size, number of layers, width of layers etc\n",
    "\n",
    "Hence, we need a systematic way to approach this problem. The most simple way is to perfrom a grid search; define a list of choices for each hyperparameter and search over all combinations.\n",
    "\n",
    "\n",
    "**Question** Perform a grid search over the learning rate and batch size. What is the best combination? "
   ]
  },
  {
   "cell_type": "code",
   "execution_count": 39,
   "metadata": {},
   "outputs": [
    {
     "name": "stdout",
     "output_type": "stream",
     "text": [
      "Testing combination: Learning Rate=0.01, Batch Size=256\n",
      "Epoch 1: Train Loss = 0.3097, Val Loss = 0.2224, Val Accuracy = 93.0200\n",
      "Epoch 2: Train Loss = 0.1642, Val Loss = 0.1427, Val Accuracy = 95.9300\n",
      "Epoch 3: Train Loss = 0.1126, Val Loss = 0.1109, Val Accuracy = 96.8300\n",
      "Epoch 4: Train Loss = 0.0933, Val Loss = 0.0933, Val Accuracy = 97.3500\n",
      "Epoch 5: Train Loss = 0.0798, Val Loss = 0.0806, Val Accuracy = 97.7100\n",
      "Epoch 6: Train Loss = 0.0709, Val Loss = 0.0770, Val Accuracy = 97.7900\n",
      "Epoch 7: Train Loss = 0.0656, Val Loss = 0.0739, Val Accuracy = 97.9000\n",
      "Epoch 8: Train Loss = 0.0606, Val Loss = 0.0690, Val Accuracy = 97.9900\n",
      "Epoch 9: Train Loss = 0.0567, Val Loss = 0.0735, Val Accuracy = 97.8400\n",
      "Epoch 10: Train Loss = 0.0524, Val Loss = 0.0723, Val Accuracy = 97.8700\n",
      "Testing combination: Learning Rate=0.01, Batch Size=512\n",
      "Epoch 1: Train Loss = 0.0461, Val Loss = 0.0621, Val Accuracy = 98.1800\n",
      "Epoch 2: Train Loss = 0.0450, Val Loss = 0.0642, Val Accuracy = 98.1600\n",
      "Epoch 3: Train Loss = 0.0431, Val Loss = 0.0611, Val Accuracy = 98.2600\n",
      "Epoch 4: Train Loss = 0.0417, Val Loss = 0.0631, Val Accuracy = 98.1400\n",
      "Epoch 5: Train Loss = 0.0412, Val Loss = 0.0610, Val Accuracy = 98.2000\n",
      "Epoch 6: Train Loss = 0.0404, Val Loss = 0.0597, Val Accuracy = 98.3200\n",
      "Epoch 7: Train Loss = 0.0392, Val Loss = 0.0604, Val Accuracy = 98.2400\n",
      "Epoch 8: Train Loss = 0.0384, Val Loss = 0.0597, Val Accuracy = 98.3100\n",
      "Epoch 9: Train Loss = 0.0380, Val Loss = 0.0601, Val Accuracy = 98.1500\n",
      "Epoch 10: Train Loss = 0.0368, Val Loss = 0.0625, Val Accuracy = 98.1400\n",
      "Testing combination: Learning Rate=0.2, Batch Size=256\n",
      "Epoch 1: Train Loss = 2.3746, Val Loss = 2.3017, Val Accuracy = 11.2900\n",
      "Epoch 2: Train Loss = 2.3031, Val Loss = 2.3024, Val Accuracy = 10.6100\n",
      "Epoch 3: Train Loss = 2.3030, Val Loss = 2.3019, Val Accuracy = 11.2900\n",
      "Epoch 4: Train Loss = 2.3031, Val Loss = 2.3037, Val Accuracy = 11.2900\n",
      "Epoch 5: Train Loss = 2.3032, Val Loss = 2.3017, Val Accuracy = 11.2900\n",
      "Epoch 6: Train Loss = 2.3030, Val Loss = 2.3048, Val Accuracy = 9.6900\n",
      "Epoch 7: Train Loss = 2.3037, Val Loss = 2.3018, Val Accuracy = 11.2900\n",
      "Epoch 8: Train Loss = 2.3026, Val Loss = 2.3021, Val Accuracy = 10.6100\n",
      "Epoch 9: Train Loss = 2.3031, Val Loss = 2.3027, Val Accuracy = 10.6100\n",
      "Epoch 10: Train Loss = 2.3032, Val Loss = 2.3025, Val Accuracy = 11.2900\n",
      "Testing combination: Learning Rate=0.2, Batch Size=512\n",
      "Epoch 1: Train Loss = 2.3020, Val Loss = 2.3012, Val Accuracy = 11.2900\n",
      "Epoch 2: Train Loss = 2.3023, Val Loss = 2.3017, Val Accuracy = 11.2900\n",
      "Epoch 3: Train Loss = 2.3023, Val Loss = 2.3012, Val Accuracy = 11.2900\n",
      "Epoch 4: Train Loss = 2.3022, Val Loss = 2.3016, Val Accuracy = 11.2900\n",
      "Epoch 5: Train Loss = 2.3021, Val Loss = 2.3019, Val Accuracy = 10.6100\n",
      "Epoch 6: Train Loss = 2.3022, Val Loss = 2.3019, Val Accuracy = 11.2900\n",
      "Epoch 7: Train Loss = 2.3019, Val Loss = 2.3019, Val Accuracy = 11.2900\n",
      "Epoch 8: Train Loss = 2.3023, Val Loss = 2.3010, Val Accuracy = 11.2900\n",
      "Epoch 9: Train Loss = 2.3023, Val Loss = 2.3009, Val Accuracy = 11.2900\n",
      "Epoch 10: Train Loss = 2.3020, Val Loss = 2.3021, Val Accuracy = 10.3800\n",
      "\n",
      "=== Results for Each Hyperparameter Combination ===\n",
      "Learning Rate: 0.01, Batch Size: 256\n",
      "  Epoch 10 Validation Accuracy: 97.87%\n",
      "Learning Rate: 0.01, Batch Size: 512\n",
      "  Epoch 10 Validation Accuracy: 98.14%\n",
      "Learning Rate: 0.2, Batch Size: 256\n",
      "  Epoch 10 Validation Accuracy: 11.29%\n",
      "Learning Rate: 0.2, Batch Size: 512\n",
      "  Epoch 10 Validation Accuracy: 10.38%\n",
      "\n",
      "=== Best Hyperparameter Combination ===\n",
      "Learning Rate: 0.01, Batch Size: 512\n",
      "Best Epoch 10 Validation Accuracy: 98.14%\n"
     ]
    }
   ],
   "source": [
    "import torch.optim as optim\n",
    "\n",
    "#i found the following hyperparameters to be the most interesting\n",
    "learning_rates = [0.01, 0.2]\n",
    "batch_sizes = [256, 512]\n",
    "results = []\n",
    "\n",
    "#perform a grid search over the hyperparameters\n",
    "for lr in learning_rates:\n",
    "    for batch_size in batch_sizes:\n",
    "        print(f\"Testing combination: Learning Rate={lr}, Batch Size={batch_size}\")\n",
    "\n",
    "        #create the dataloaders\n",
    "        train_dataloader = DataLoader(train_dataset, batch_size=batch_size, shuffle=True)\n",
    "        valid_dataloader = DataLoader(valid_dataset, batch_size=batch_size, shuffle=False)\n",
    "\n",
    "        #define the optimizer model\n",
    "        optimizer = optim.SGD(cnn.parameters(), lr=lr, momentum=0.9)\n",
    "\n",
    "        #fit the model\n",
    "        train_losses, valid_losses, valid_accs = fit(\n",
    "            model=cnn,\n",
    "            train_dataloader=train_dataloader,\n",
    "            valid_dataloader=valid_dataloader,\n",
    "            optimizer=optimizer,\n",
    "            num_epochs=10,\n",
    "            device=DEVICE\n",
    "        )\n",
    "\n",
    "        #append step results\n",
    "        if valid_accs:\n",
    "            results.append({\n",
    "                \"learning_rate\": lr,\n",
    "                \"batch_size\": batch_size,\n",
    "                \"epoch_10_val_accuracy\": valid_accs[-1].item()  # Convert tensor to scalar\n",
    "            })\n",
    "        else:\n",
    "            print(f\"Error: Validation accuracies are empty for Learning Rate={lr}, Batch Size={batch_size}\")\n",
    "\n",
    "#find the best result\n",
    "best_result = max(results, key=lambda x: x[\"epoch_10_val_accuracy\"])\n",
    "\n",
    "print(\"\\n=== Results for Each Hyperparameter Combination ===\")\n",
    "for result in results:\n",
    "    print(f\"Learning Rate: {result['learning_rate']}, Batch Size: {result['batch_size']}\")\n",
    "    print(f\"  Epoch 10 Validation Accuracy: {result['epoch_10_val_accuracy']:.2f}%\")\n",
    "\n",
    "print(\"\\n=== Best Hyperparameter Combination ===\")\n",
    "print(f\"Learning Rate: {best_result['learning_rate']}, Batch Size: {best_result['batch_size']}\")\n",
    "print(f\"Best Epoch 10 Validation Accuracy: {best_result['epoch_10_val_accuracy']:.2f}%\")\n"
   ]
  },
  {
   "cell_type": "markdown",
   "metadata": {
    "id": "oEQbGVkSrwrY"
   },
   "source": [
    "# Part 2 (CIFAR10)\n",
    "\n",
    "On the previous part we implemented CNNs using the `PyTorch` library. Our experiments showed that for image classification a CNN architecture yields good results on MNIST and, depending on the complexity of the network you created, \"good\" results on CIFAR10. However, dealing with MNIST someone might have gotten the wrong impression: \"everythings work out-of-the-box or like magic in Deep Learning\". Reality is not so rosy and we must go to great lengths do replicate our success on MNIST for other datasets.\n",
    "\n",
    "In this part, we will explore common pitfalls as well as common tips and tricks to resolve them. These simple methods will provide superior performance and are very easy to incorporate in our pipeline.\n",
    "\n",
    "Specifically, we will talk about:\n",
    "- Batch Normalization\n",
    "- Learning rate scheduler\n",
    "- Residual Connections\n",
    "\n",
    "So... let's get started!\n"
   ]
  },
  {
   "cell_type": "code",
   "execution_count": 40,
   "metadata": {
    "executionInfo": {
     "elapsed": 249,
     "status": "ok",
     "timestamp": 1701184559109,
     "user": {
      "displayName": "Davide Ghio",
      "userId": "11962714808641352630"
     },
     "user_tz": -60
    },
    "id": "AV9mIlnlrwrY"
   },
   "outputs": [],
   "source": [
    "# first we load all the necessary libraries\n",
    "\n",
    "import torchvision.transforms as transforms\n",
    "import torch.nn.functional as F"
   ]
  },
  {
   "cell_type": "code",
   "execution_count": 41,
   "metadata": {
    "colab": {
     "base_uri": "https://localhost:8080/"
    },
    "executionInfo": {
     "elapsed": 1388,
     "status": "ok",
     "timestamp": 1701184561484,
     "user": {
      "displayName": "Davide Ghio",
      "userId": "11962714808641352630"
     },
     "user_tz": -60
    },
    "id": "SLfg-INhrwrZ",
    "outputId": "0f9b2df4-4797-491b-90a4-fa40344ea536"
   },
   "outputs": [
    {
     "name": "stdout",
     "output_type": "stream",
     "text": [
      "Files already downloaded and verified\n",
      "Files already downloaded and verified\n"
     ]
    }
   ],
   "source": [
    "transform = transforms.Compose([\n",
    "    torchvision.transforms.ToTensor(),\n",
    "])\n",
    "\n",
    "# load the train dataset\n",
    "train_dataset = torchvision.datasets.CIFAR10(\n",
    "    root='./data/',\n",
    "    train=True,\n",
    "    download=True,\n",
    "    transform=transform)\n",
    "\n",
    "# load the test dataset\n",
    "test_dataset = torchvision.datasets.CIFAR10(\n",
    "    root='./data/',\n",
    "    train=False,\n",
    "    download=True,\n",
    "    transform=transform)\n"
   ]
  },
  {
   "cell_type": "code",
   "execution_count": 42,
   "metadata": {
    "executionInfo": {
     "elapsed": 324,
     "status": "ok",
     "timestamp": 1701184563243,
     "user": {
      "displayName": "Davide Ghio",
      "userId": "11962714808641352630"
     },
     "user_tz": -60
    },
    "id": "PfbQsRLTrwrg"
   },
   "outputs": [],
   "source": [
    "train_dataloader = DataLoader(\n",
    "    dataset=train_dataset,\n",
    "    batch_size=BATCH_SIZE,\n",
    "    shuffle=True,\n",
    "    num_workers=2)\n",
    "\n",
    "\n",
    "test_dataloader = DataLoader(\n",
    "    dataset=test_dataset,\n",
    "    batch_size=BATCH_SIZE,\n",
    "    shuffle=False,\n",
    "    num_workers=2)\n"
   ]
  },
  {
   "cell_type": "markdown",
   "metadata": {
    "id": "1177f6PHrwrg"
   },
   "source": [
    "## Batch normalization"
   ]
  },
  {
   "cell_type": "markdown",
   "metadata": {
    "id": "oL9m0-efFPLT"
   },
   "source": [
    "We want to learn fast and converge at the same time. If we use a small learning rate, we will converge but it will be too slow. On the other hand, if we use large learning rate, our training will become inconsistent and we will bounce all over the place and never converge. Additionaly, higher learning rates  cause exploding or vanishing gradients i.e. the phenomenon where the multiplication of gradients via the chain rule induces a compound effect on the lower layers, preventing them from learning.\n",
    "\n",
    "Can we have the best of both worlds? Enter **Batch Normalization**.\n",
    "\n",
    "1. What does BatchNorm aims to solve? We want to\n",
    "    * avoid unstable gradients,\n",
    "    * allow faster learning rates leading to faster convergence,\n",
    "    * reduce the effect of initialization.\n",
    "\n",
    "2. Why does BatchNorm actually do?\n",
    "    * Suppose we are given values of $x=1$"
   ]
  },
  {
   "cell_type": "markdown",
   "metadata": {
    "id": "dwJ3X53jrwrg"
   },
   "source": [
    "We want to learn fast and converge at the same time. If we use a small learning rate, we will converge but it will be too slow. On the other hand, if we use large learning rate, our training will become inconsistent and we will bounce all over the place and never converge. Additionaly, higher learning rates  cause exploding or vanishing gradients i.e. the phenomenon where the multiplication of gradients via the chain rule induces a compound effect on the lower layers, preventing them from learning.\n",
    "\n",
    "Can we have the best of both worlds? Enter **Batch Normalization**.\n",
    "\n",
    "1. What does BatchNorm aims to solve? We want to\n",
    "    * avoid unstable gradients,\n",
    "    * allow faster learning rates leading to faster convergence,\n",
    "    * reduce the effect of initialization.\n",
    "\n",
    "2. Why does BatchNorm actually do?\n",
    "\n",
    "Suppose we are given values of $x$ over a mini-batch $B=\\{x_i\\}_{i=1}^m$. Our goal is to learn some parameters $\\gamma$ and $\\beta$ that perform the proper scaling.\n",
    "\n",
    "- First, we compute the mini-batch mean\n",
    "    $$\n",
    "    \\mu_{B}=\\frac{1}{m}\\sum_{i=1}^mx_i\n",
    "    $$\n",
    "and mini-batch variance\n",
    "    $$\n",
    "    \\sigma^2_{B}=\\frac{1}{m}\\sum_{i=1}^m (x_i-\\mu_{B})^2\n",
    "    $$\n",
    "- we use these quantities to normalize our input\n",
    "    $$\n",
    "    x_i\\leftarrow\\frac{x_i-\\mu_{B}}{\\sqrt{\\sigma^2_{B}+\\epsilon}}\n",
    "    $$\n",
    "- We scale, shift and return the output\n",
    "    $$\n",
    "    y_i=\\gamma x_i+\\beta\\equiv \\text{BN}_{\\gamma, \\beta}(x_i)\n",
    "    $$\n",
    "Essentially, for each mini-batch we normalize the inputs by subtracting their mean and dividing by their standard deviation (estimated based on the statistics of the current mini-batch)  \n",
    "\n",
    "\n",
    "3. Why does BatchNorm work?\n",
    "\n",
    "    * BatchNorm is widely used (e.g. the original paper [1] has over 50000 citations). However, the reasons of its success are not perfectly clear.\n",
    "    * The original authors claim that BatchNorm helps alleviate *Internal Covariate shift*, i.e. the phenomenon of shifting input distributions. Specifically, the input to each layer can be seen as a data distribution that the layer is trying to “learn”. The model, though, does not see the whole dataset but simply mini-batches. If this distribution stays consistent across batches, the layer can \"learn effectively\".  But, does this happen in practice?\n",
    "    * the reality is that different mini-batches have different statistics, e.g. mean, variance etc, making the input distribution to the layers jump around. In other words, the input distribuion shifts for every mini-batch. We are trying to learn a \"moving target\". What if we stabilize it?\n",
    "    * Batch normalization keeps the input normalized (duh!), preventing them from becoming too large or small and keeping the distribution consistent.\n",
    "    \n",
    "    * It also directly placates the exploding/vanishing gradient problem and  allows higher learning rates.\n",
    "\n",
    "    * However, other explanations have been proposed. [2] claims that BatchNorm \"makes the optimization landscape significantly smoother. This smoothness induces a more predictive and stable behavior of the gradients, allowing for faster training\".\n",
    "\n",
    "\n",
    "---\n",
    "[1] S. Ioffe and C. Szegedy, “Batch Normalization: Accelerating Deep Network Training by Reducing Internal Covariate Shift,” in Proceedings of the 32nd International Conference on Machine Learning, Jun. 2015, pp. 448–456. Accessed: Oct. 25, 2021. [Online]. Available: https://proceedings.mlr.press/v37/ioffe15.html\n",
    "\n",
    "[2] S. Santurkar, D. Tsipras, A. Ilyas, and A. Madry, “How Does Batch Normalization Help Optimization?,” in Advances in Neural Information Processing Systems, 2018, vol. 31. Accessed: Oct. 25, 2021. [Online]. Available: https://papers.nips.cc/paper/2018/hash/905056c1ac1dad141560467e0a99e1cf-Abstract.html\n",
    "\n"
   ]
  },
  {
   "cell_type": "markdown",
   "metadata": {
    "id": "nOvg2Ue2LXqp"
   },
   "source": [
    "**Question** Redo the previous cnn architecture with batch normalization.\n",
    "Where does the batch normalization go?"
   ]
  },
  {
   "cell_type": "code",
   "execution_count": 43,
   "metadata": {},
   "outputs": [],
   "source": [
    "#We work with CIFAR10 dataset, which has 10 classes, to avoid consfusion i redefined mutch of the functions used\n",
    "\n",
    "\n",
    "class CifarCNNBatchNorm(nn.Module):\n",
    "    def __init__(self):\n",
    "        super().__init__()\n",
    "        self.conv = nn.Sequential(\n",
    "            nn.Conv2d(3, 16, kernel_size=3, stride=1, padding=1),\n",
    "            nn.BatchNorm2d(16),                                         #batch normalization goes here because it is usedd before the activation function to normalize the input\n",
    "            nn.ReLU(),\n",
    "            nn.MaxPool2d(kernel_size=2),\n",
    "            nn.Conv2d(16, 32, kernel_size=3, stride=1, padding=1),\n",
    "            nn.BatchNorm2d(32),\n",
    "            nn.ReLU(),\n",
    "            nn.MaxPool2d(2),\n",
    "        )\n",
    "        self.out = nn.Linear(32 * 8 * 8, 10)\n",
    "\n",
    "    def forward(self, x):\n",
    "        x = self.conv(x)\n",
    "        x = x.view(x.size(0), -1)\n",
    "        x = self.out(x)\n",
    "        return x\n",
    "\n",
    "\n",
    "def fit(model, train_dataloader, optimizer, epochs, device):\n",
    "    \"\"\"\n",
    "    Train the model for a specified number of epochs.\n",
    "    \"\"\"\n",
    "    losses = []\n",
    "    for epoch in range(epochs):\n",
    "        running_loss = train_epoch(model, train_dataloader, optimizer, device)\n",
    "        print(f\"Epoch {epoch + 1}: Loss={running_loss:.4f}\")\n",
    "        losses.append(running_loss)\n",
    "    return losses\n",
    "\n"
   ]
  },
  {
   "cell_type": "code",
   "execution_count": 44,
   "metadata": {},
   "outputs": [],
   "source": [
    "# also no normalization for comparison!\n",
    "\n",
    "class CifarCNNNoBatchNorm(nn.Module):\n",
    "    def __init__(self):\n",
    "        super().__init__()\n",
    "        self.conv = nn.Sequential(\n",
    "            nn.Conv2d(3, 16, kernel_size=3, stride=1, padding=1),\n",
    "            # No Batch Normalization here\n",
    "            nn.ReLU(),\n",
    "            nn.MaxPool2d(kernel_size=2),\n",
    "            nn.Conv2d(16, 32, kernel_size=3, stride=1, padding=1),\n",
    "            # No Batch Normalization here\n",
    "            nn.ReLU(),\n",
    "            nn.MaxPool2d(2),\n",
    "        )\n",
    "        self.out = nn.Linear(32 * 8 * 8, 10)\n",
    "\n",
    "    def forward(self, x):\n",
    "        x = self.conv(x)\n",
    "        x = x.view(x.size(0), -1)\n",
    "        x = self.out(x)\n",
    "        return x"
   ]
  },
  {
   "cell_type": "markdown",
   "metadata": {
    "id": "LHp4U1BNrwrh"
   },
   "source": [
    "**Question** One of the benefits of Batch Norm is that it allows us to use higher learning rates. Adapt the code above to do so. Does the model learn faster?\n"
   ]
  },
  {
   "cell_type": "code",
   "execution_count": 45,
   "metadata": {},
   "outputs": [
    {
     "name": "stdout",
     "output_type": "stream",
     "text": [
      "=== Training and Evaluating Model WITH Batch Normalization ===\n",
      "Epoch 1: Loss=3.4012\n",
      "Epoch 2: Loss=2.3029\n",
      "Epoch 3: Loss=2.3029\n",
      "Epoch 4: Loss=2.3029\n",
      "Epoch 5: Loss=2.3028\n",
      "Epoch 6: Loss=2.3028\n",
      "Epoch 7: Loss=2.3028\n",
      "Epoch 8: Loss=2.3029\n",
      "Epoch 9: Loss=2.3029\n",
      "Epoch 10: Loss=2.3029\n",
      "=== Evaluation WITH Batch Normalization ===\n",
      "Test set: Avg. loss: 2.3027, Accuracy: 1000/10000 (10%)\n",
      "\n",
      "=== Training and Evaluating Model WITHOUT Batch Normalization ===\n",
      "Epoch 1: Loss=2.2678\n",
      "Epoch 2: Loss=1.7803\n",
      "Epoch 3: Loss=1.4965\n",
      "Epoch 4: Loss=1.3885\n",
      "Epoch 5: Loss=1.3204\n",
      "Epoch 6: Loss=1.2277\n",
      "Epoch 7: Loss=1.1597\n",
      "Epoch 8: Loss=1.1118\n",
      "Epoch 9: Loss=1.0778\n",
      "Epoch 10: Loss=1.0623\n",
      "=== Evaluation WITHOUT Batch Normalization ===\n",
      "Test set: Avg. loss: 1.1037, Accuracy: 6146/10000 (61%)\n"
     ]
    },
    {
     "data": {
      "text/plain": [
       "(1.1037487976074218, tensor(61.4600, device='cuda:0'))"
      ]
     },
     "execution_count": 45,
     "metadata": {},
     "output_type": "execute_result"
    }
   ],
   "source": [
    "#----------------------------Train and evaluate model WITH Batch Normalization\n",
    "print(\"=== Training and Evaluating Model WITH Batch Normalization ===\")\n",
    "model_with_bn = CifarCNNBatchNorm().to(DEVICE)\n",
    "optimizer_with_bn = optim.SGD(model_with_bn.parameters(), lr=0.1, momentum=0.9)\n",
    "\n",
    "train_losses_with_bn = fit(model=model_with_bn, train_dataloader=train_dataloader, optimizer=optimizer_with_bn, epochs=10, device=DEVICE)\n",
    "\n",
    "print(\"=== Evaluation WITH Batch Normalization ===\")\n",
    "predict(model=model_with_bn, test_dataloader=test_dataloader, device=DEVICE)\n",
    "\n",
    "#-----------------------------Train and evaluate model WITHOUT Batch Normalization\n",
    "print(\"\\n=== Training and Evaluating Model WITHOUT Batch Normalization ===\")\n",
    "model_without_bn = CifarCNNNoBatchNorm().to(DEVICE)\n",
    "optimizer_without_bn = optim.SGD(model_without_bn.parameters(), lr=0.1, momentum=0.9)\n",
    "\n",
    "train_losses_without_bn = fit(model=model_without_bn, train_dataloader=train_dataloader, optimizer=optimizer_without_bn, epochs=10, device=DEVICE)\n",
    "\n",
    "print(\"=== Evaluation WITHOUT Batch Normalization ===\")\n",
    "predict(model=model_without_bn, test_dataloader=test_dataloader, device=DEVICE)\n"
   ]
  },
  {
   "cell_type": "markdown",
   "metadata": {
    "id": "c3kjx9C8rwrh"
   },
   "source": [
    "## Learning rate scheduler\n",
    "\n",
    "We have just seen that batch normalization allows, in this case, for a quicker improvement with a higher learning rate. Still, the loss plateaus quickly and me start seeing minimal improvement. This is often due to the optimization algorithm overshooting the gradient descent.\n",
    "\n",
    "Can we reduce the step size on the go? Yes! :smiley: This is what learning schedulers are for. The idea is simple: instead of a constant learning rate, we reduce it based on some conditions, or after a certain amount of steps.\n",
    "\n",
    "Two common schedulers are [`MultiStepLR`][MultiStepLR] and [`ReduceLROnPlateau`][ReduceLROnPlateau]. The first one, simply multiplies our learning rate `lr` by a constant factor $\\gamma < 1$ after some predefined number of steps. For instance, if the initial learning rate is `lr=1`, and we set $\\gamma=0.5$ for \"milestones\" of 20 and 50, then the optimizer is going to use `lr=1` for the first 20 epochs, then `lr=0.5` for the subsequent 30, and finally `lr=0.25` for all the remaining ones.\n",
    "\n",
    "`ReduceLROnPlateau` tracks a given metric, e.g. validation loss or accuracy, and reduces the learning rate if no improvement is seen after a predefined number of steps, called \"patience\".\n",
    "\n",
    "[MultiStepLR]: https://pytorch.org/docs/stable/generated/torch.optim.lr_scheduler.MultiStepLR.html\n",
    "[ReduceLROnPlateau]: https://pytorch.org/docs/stable/generated/torch.optim.lr_scheduler.ReduceLROnPlateau.html"
   ]
  },
  {
   "cell_type": "markdown",
   "metadata": {
    "id": "lbybWI1Orwrh"
   },
   "source": [
    "**Question** In the following cell, augment the `fit` function from previous weeks (in `training_utils.py`) to accept a scheduler argument and use it while training"
   ]
  },
  {
   "cell_type": "code",
   "execution_count": null,
   "metadata": {},
   "outputs": [],
   "source": [
    "def new_fit(\n",
    "    model: nn.Module,\n",
    "    train_dataloader: DataLoader,\n",
    "    optimizer: torch.optim.Optimizer,\n",
    "    scheduler: torch.optim.lr_scheduler._LRScheduler,\n",
    "    epochs: int,\n",
    "    device: torch.device,\n",
    "):\n",
    "    \"\"\"\n",
    "    Train the model for a specified number of epochs and adjust the learning rate using a scheduler.\n",
    "    \"\"\"\n",
    "    losses = []\n",
    "\n",
    "    for epoch in range(epochs):\n",
    "        running_loss = train_epoch(\n",
    "            model=model,\n",
    "            train_dataloader=train_dataloader,\n",
    "            optimizer=optimizer,\n",
    "            device=device,\n",
    "        )\n",
    "\n",
    "        print(f\"Epoch {epoch + 1}: Loss={running_loss:.4f}, Learning Rate={scheduler.get_last_lr()[0]:.6f}\")\n",
    "        losses.append(running_loss)\n",
    "\n",
    "        #step the scheduler!!!!!!!!!!!!!!\n",
    "        scheduler.step()\n",
    "\n",
    "    return losses\n",
    "\n"
   ]
  },
  {
   "cell_type": "markdown",
   "metadata": {
    "id": "9Q80f4Y_rwrh"
   },
   "source": [
    "**Question** Now train again the batch-norm-cnn, using the `MultiStepLR` scheduler."
   ]
  },
  {
   "cell_type": "code",
   "execution_count": null,
   "metadata": {},
   "outputs": [
    {
     "name": "stdout",
     "output_type": "stream",
     "text": [
      "=== Training and Evaluating Model WITH Batch Normalization ===\n",
      "Epoch 1: Loss=3.4729, Learning Rate=0.100000\n",
      "Epoch 2: Loss=2.2408, Learning Rate=0.100000\n",
      "Epoch 3: Loss=2.1414, Learning Rate=0.100000\n",
      "Epoch 4: Loss=2.0849, Learning Rate=0.010000\n",
      "Epoch 5: Loss=2.0684, Learning Rate=0.010000\n",
      "Epoch 6: Loss=2.0576, Learning Rate=0.010000\n",
      "Epoch 7: Loss=2.0517, Learning Rate=0.001000\n",
      "Epoch 8: Loss=2.0496, Learning Rate=0.001000\n",
      "Epoch 9: Loss=2.0503, Learning Rate=0.001000\n",
      "Epoch 10: Loss=2.0493, Learning Rate=0.000100\n",
      "=== Evaluation WITH Batch Normalization ===\n",
      "Test set: Avg. loss: 2.0429, Accuracy: 2526/10000 (25%)\n"
     ]
    },
    {
     "data": {
      "text/plain": [
       "(2.042911730957031, tensor(25.2600, device='cuda:0'))"
      ]
     },
     "execution_count": 51,
     "metadata": {},
     "output_type": "execute_result"
    }
   ],
   "source": [
    "print(\"=== Training and Evaluating Model WITH Batch Normalization ===\")\n",
    "\n",
    "model_with_bn = CifarCNNBatchNorm().to(DEVICE)\n",
    "\n",
    "#define the optimizer and the scheduler\n",
    "optimizer_with_bn = optim.SGD(model_with_bn.parameters(), lr=0.1, momentum=0.9)\n",
    "scheduler_with_bn = optim.lr_scheduler.StepLR(optimizer_with_bn, step_size=3, gamma=0.1)\n",
    "\n",
    "train_losses_with_bn_and_scheduler = new_fit(model=model_with_bn,train_dataloader=train_dataloader,optimizer=optimizer_with_bn,scheduler=scheduler_with_bn,epochs=10,device=DEVICE,)\n",
    "\n",
    "# Evaluate the model\n",
    "print(\"=== Evaluation WITH Batch Normalization ===\")\n",
    "predict(model=model_with_bn, test_dataloader=test_dataloader, device=DEVICE)\n"
   ]
  },
  {
   "cell_type": "markdown",
   "metadata": {
    "id": "PtiaTA3Crwrh"
   },
   "source": [
    "## Residual connections\n",
    "\n",
    "As neural networks go deeper, they are able to construct complex representations and yield superior performance. However, we cannot simply stack as many layers as we want to increase the depth.\n",
    "\n",
    "![caption](media/resnet-no-skip-horizontal.png)\n",
    "\n",
    "This is due to the **vanishing gradient** problem. Specifically, backpropagating the gradient to earlier layers involves repeated multiplication (with small values) rendering the gradient extremely small. This effectively means that as we go deeper, performance gets saturated. Instead of improved performance we even have degradation!\n",
    "\n",
    "How can we reconcile this tradeoff? On the one hand, we want to increase depth but on the other hand this hurts convergence.\n",
    "\n",
    "Enter **skip connections** [3]! The network of the previous figure now becomes the following:\n",
    "\n",
    "![caption](media/resnet-horizontal.png)\n",
    "\n",
    "Now, let's think why these skip connections work. First, they allow the gradient to flow via this shortcut connection, which helps mitigate the problem of vanishing gradient. Second, they allow the model to learn the identity function. In other words, this ensures that the higher layer will perform at least as good as the lower layer.\n",
    "\n",
    "---\n",
    "[3] K. He, X. Zhang, S. Ren, and J. Sun, “Deep Residual Learning for Image Recognition,” in 2016 IEEE Conference on Computer Vision and Pattern Recognition (CVPR), Las Vegas, NV, USA, Jun. 2016, pp. 770–778. doi: 10.1109/CVPR.2016.90.\n",
    "\n"
   ]
  },
  {
   "cell_type": "markdown",
   "metadata": {
    "id": "RenoOqUDrwrh"
   },
   "source": [
    "First, we build the network of the first image, i.e. with no skip connections. The Resnet depicted above is characterized by an interesting pattern. It consists of \"super-blocks\" (see the different colors) and each one consists of two blocks that start after one residual connection and finish just before one. Notice that each color is associated with a different number, i.e. 64, 128, 256, 512.\n",
    "\n",
    "We will build a `nn.Module` for each block and repeat it to create the super-blocks and by extension the whole architecture.\n",
    "\n",
    "The ResNet depicted above is meant to be used for `ImageNet`, a more complex dataset compared to `CIFAR10`. For computational considerations, we amend our implementation and make a simpler version."
   ]
  },
  {
   "cell_type": "code",
   "execution_count": 52,
   "metadata": {
    "executionInfo": {
     "elapsed": 3,
     "status": "ok",
     "timestamp": 1701184583546,
     "user": {
      "displayName": "Davide Ghio",
      "userId": "11962714808641352630"
     },
     "user_tz": -60
    },
    "id": "K3IGC9Xmrwrh"
   },
   "outputs": [],
   "source": [
    "class NonResidualBlock(nn.Module):\n",
    "\n",
    "    def __init__(self, in_planes, planes, stride=1):\n",
    "        super().__init__()\n",
    "        self.conv1 = nn.Conv2d(\n",
    "            in_channels = in_planes,\n",
    "            out_channels = planes,\n",
    "            kernel_size=3,\n",
    "            stride=stride,\n",
    "            padding=1,\n",
    "            bias=False)\n",
    "\n",
    "        self.bn1 = nn.BatchNorm2d(planes)\n",
    "        self.conv2 = nn.Conv2d(\n",
    "            planes,\n",
    "            planes,\n",
    "            kernel_size=3,\n",
    "            stride=1,\n",
    "            padding=1,\n",
    "            bias=False)\n",
    "        self.bn2 = nn.BatchNorm2d(planes)\n",
    "\n",
    "    def forward(self, x):\n",
    "        x = self.conv1(x)\n",
    "        x = self.bn1(x)\n",
    "        x = F.relu(x)\n",
    "\n",
    "        x = self.conv2(x)\n",
    "        x = self.bn2(x)\n",
    "        x = F.relu(x)\n",
    "\n",
    "        return x\n",
    "\n",
    "\n",
    "class ResNet(nn.Module):\n",
    "    def __init__(self, block, num_blocks, num_classes=10):\n",
    "        super().__init__()\n",
    "        self.in_planes = 64\n",
    "\n",
    "        self.conv1 = nn.Conv2d(3, 64, kernel_size=3, stride=1, padding=1, bias=False)\n",
    "        self.bn1 = nn.BatchNorm2d(64)\n",
    "        self.layer1 = self._make_layer(block, 64, num_blocks[0], stride=1)\n",
    "        self.layer2 = self._make_layer(block, 128, num_blocks[1], stride=2)\n",
    "        self.layer3 = self._make_layer(block, 256, num_blocks[2], stride=2)\n",
    "        self.layer4 = self._make_layer(block, 512, num_blocks[3], stride=2)\n",
    "        self.linear = nn.Linear(512, num_classes)\n",
    "\n",
    "    def _make_layer(self, block, planes, num_blocks, stride):\n",
    "        strides = [stride] + [1]*(num_blocks-1)\n",
    "        layers = []\n",
    "        for stride in strides:\n",
    "            layers.append(block(self.in_planes, planes, stride))\n",
    "            self.in_planes = planes\n",
    "        return nn.Sequential(*layers)\n",
    "\n",
    "    def forward(self, x):\n",
    "        out = F.relu(self.bn1(self.conv1(x)))\n",
    "        out = self.layer1(out)\n",
    "        out = self.layer2(out)\n",
    "        out = self.layer3(out)\n",
    "        out = self.layer4(out)\n",
    "        out = F.avg_pool2d(out, 4)\n",
    "        out = out.view(out.size(0), -1)\n",
    "        out = self.linear(out)\n",
    "        return out\n",
    "\n"
   ]
  },
  {
   "cell_type": "code",
   "execution_count": 55,
   "metadata": {
    "colab": {
     "base_uri": "https://localhost:8080/",
     "height": 1000
    },
    "executionInfo": {
     "elapsed": 1352306,
     "status": "ok",
     "timestamp": 1701185971305,
     "user": {
      "displayName": "Davide Ghio",
      "userId": "11962714808641352630"
     },
     "user_tz": -60
    },
    "id": "FwkEbqPBrwrh",
    "outputId": "95713224-d1c1-4d11-e8cb-c18a1641e354"
   },
   "outputs": [
    {
     "name": "stdout",
     "output_type": "stream",
     "text": [
      "Epoch 1: Loss=2.2360\n",
      "Epoch 2: Loss=1.8309\n",
      "Epoch 3: Loss=1.6708\n",
      "Epoch 4: Loss=1.5286\n",
      "Epoch 5: Loss=1.4118\n",
      "Epoch 6: Loss=1.2878\n",
      "Epoch 7: Loss=1.1668\n",
      "Epoch 8: Loss=1.0590\n",
      "Epoch 9: Loss=0.9717\n",
      "Epoch 10: Loss=0.8879\n",
      "Epoch 11: Loss=0.8143\n",
      "Epoch 12: Loss=0.7439\n",
      "Epoch 13: Loss=0.6777\n",
      "Epoch 14: Loss=0.6274\n",
      "Epoch 15: Loss=0.5783\n",
      "Epoch 16: Loss=0.5154\n",
      "Epoch 17: Loss=0.4735\n",
      "Epoch 18: Loss=0.4234\n",
      "Epoch 19: Loss=0.3804\n",
      "Epoch 20: Loss=0.3575\n",
      "Epoch 21: Loss=0.3222\n",
      "Epoch 22: Loss=0.2842\n",
      "Epoch 23: Loss=0.2609\n",
      "Epoch 24: Loss=0.2302\n",
      "Epoch 25: Loss=0.2025\n",
      "Epoch 26: Loss=0.1723\n",
      "Epoch 27: Loss=0.1601\n",
      "Epoch 28: Loss=0.1373\n",
      "Epoch 29: Loss=0.1296\n",
      "Epoch 30: Loss=0.1173\n",
      "Epoch 31: Loss=0.0929\n",
      "Epoch 32: Loss=0.0734\n",
      "Epoch 33: Loss=0.0718\n",
      "Epoch 34: Loss=0.0718\n",
      "Epoch 35: Loss=0.0638\n"
     ]
    }
   ],
   "source": [
    "# initialize the model\n",
    "model = ResNet(block=NonResidualBlock, num_blocks=[2,2,2,2]).to(DEVICE)\n",
    "\n",
    "# define the optimizer\n",
    "optimizer = torch.optim.Adam(model.parameters(), lr=0.01)\n",
    "\n",
    "# train the ResNet\n",
    "\n",
    "train_losses =   fit(model,train_dataloader = train_dataloader,optimizer = optimizer,epochs = 35,device = DEVICE)\n"
   ]
  },
  {
   "cell_type": "code",
   "execution_count": 56,
   "metadata": {},
   "outputs": [
    {
     "name": "stdout",
     "output_type": "stream",
     "text": [
      "Test set: Avg. loss: 0.8790, Accuracy: 8252/10000 (83%)\n"
     ]
    },
    {
     "data": {
      "text/plain": [
       "(0.8789866333007812, tensor(82.5200, device='cuda:0'))"
      ]
     },
     "execution_count": 56,
     "metadata": {},
     "output_type": "execute_result"
    },
    {
     "data": {
      "image/png": "[encoded data removed]",
      "text/plain": [
       "<Figure size 640x480 with 1 Axes>"
      ]
     },
     "metadata": {},
     "output_type": "display_data"
    }
   ],
   "source": [
    "\n",
    "plot_loss(train_losses)\n",
    "\n",
    "# predict with the trained model\n",
    "predict(\n",
    "    model,\n",
    "    test_dataloader = test_dataloader,\n",
    "    device = DEVICE\n",
    ")\n"
   ]
  },
  {
   "cell_type": "markdown",
   "metadata": {
    "id": "Nam1MxdTrwrh"
   },
   "source": [
    "Now, we add skip connections. Notice that sometimes the skip connection cannot be simply an identity function, since the dimensions will not match. Identify the condition when this is necessary. In that case, the shortcut function should be a convolution followed by BatchNorm.\n",
    "\n",
    "**Question** Fill the code below and train the network!"
   ]
  },
  {
   "cell_type": "code",
   "execution_count": 67,
   "metadata": {},
   "outputs": [],
   "source": [
    "class ResidualBlock(nn.Module):\n",
    "\n",
    "    def __init__(self, in_planes, planes, stride=1):\n",
    "        super().__init__()\n",
    "        self.conv1 = nn.Conv2d(\n",
    "            in_planes, planes, kernel_size=3, stride=stride, padding=1, bias=False)\n",
    "        self.bn1 = nn.BatchNorm2d(planes)\n",
    "        self.conv2 = nn.Conv2d(planes, planes, kernel_size=3, stride=1, padding=1, bias=False)\n",
    "        self.bn2 = nn.BatchNorm2d(planes)\n",
    "\n",
    "        self.shortcut = nn.Sequential()               #here we implement the shortcut connection, aka the mechanism for the skip connection\n",
    "        if stride != 1 or in_planes != planes:        #first thing to check is if the input and output dimensions are the same, if not we need to add a convolutional layer to the shortcut. If x's shape already matches 𝑜𝑢𝑡 out, the shortcut is just an identity function (nn.Sequential()).\n",
    "            self.shortcut = nn.Sequential(            #if the dimensions are different we need to add a convolutional layer to the shortcut\n",
    "                nn.Conv2d(in_planes, planes, kernel_size=1, stride=stride, bias=False),  #1x1 convolutional layer\n",
    "                nn.BatchNorm2d(planes)                                                   #batch normalization\n",
    "            )\n",
    "\n",
    "    def forward(self, x):\n",
    "        out = F.relu(self.bn1(self.conv1(x)))     #first convolutional layer, then batch normalization, then activation function ReLU\n",
    "        out = self.bn2(self.conv2(out))           #second convolutional layer, then batch normalization\n",
    "        out += self.shortcut(x)                   #add the shortcut connection!!!!!!!!!!!!!!!!!!!!!!!!!!!!!!!!!!!!!!!!!!!!!!!!!!!!!!!!!!!!!!!!!!!!!!!!\n",
    "        out = F.relu(out)                         #activation function ReLU\n",
    "        return out  \n"
   ]
  },
  {
   "cell_type": "code",
   "execution_count": 68,
   "metadata": {},
   "outputs": [
    {
     "name": "stdout",
     "output_type": "stream",
     "text": [
      "Epoch 1: Loss=1.8455\n",
      "Epoch 2: Loss=1.4259\n",
      "Epoch 3: Loss=1.1918\n",
      "Epoch 4: Loss=0.9935\n",
      "Epoch 5: Loss=0.8406\n",
      "Epoch 6: Loss=0.7296\n",
      "Epoch 7: Loss=0.6338\n",
      "Epoch 8: Loss=0.5520\n",
      "Epoch 9: Loss=0.4987\n",
      "Epoch 10: Loss=0.4407\n",
      "Epoch 11: Loss=0.3837\n",
      "Epoch 12: Loss=0.3399\n",
      "Epoch 13: Loss=0.3025\n",
      "Epoch 14: Loss=0.2684\n",
      "Epoch 15: Loss=0.2252\n",
      "Epoch 16: Loss=0.1796\n",
      "Epoch 17: Loss=0.1508\n",
      "Epoch 18: Loss=0.1343\n",
      "Epoch 19: Loss=0.1142\n",
      "Epoch 20: Loss=0.0910\n",
      "Epoch 21: Loss=0.0850\n",
      "Epoch 22: Loss=0.0759\n",
      "Epoch 23: Loss=0.0680\n",
      "Epoch 24: Loss=0.0672\n",
      "Epoch 25: Loss=0.0663\n",
      "Epoch 26: Loss=0.0570\n",
      "Epoch 27: Loss=0.0476\n",
      "Epoch 28: Loss=0.0401\n",
      "Epoch 29: Loss=0.0354\n",
      "Epoch 30: Loss=0.0389\n",
      "Epoch 31: Loss=0.0426\n",
      "Epoch 32: Loss=0.0494\n",
      "Epoch 33: Loss=0.0485\n",
      "Epoch 34: Loss=0.0556\n",
      "Epoch 35: Loss=0.0450\n",
      "Test set: Avg. loss: 1.1003, Accuracy: 7927/10000 (79%)\n"
     ]
    },
    {
     "data": {
      "text/plain": [
       "(1.100342822265625, tensor(79.2700, device='cuda:0'))"
      ]
     },
     "execution_count": 68,
     "metadata": {},
     "output_type": "execute_result"
    },
    {
     "data": {
      "image/png": "[encoded data removed]",
      "text/plain": [
       "<Figure size 640x480 with 1 Axes>"
      ]
     },
     "metadata": {},
     "output_type": "display_data"
    }
   ],
   "source": [
    "#CONSTANT LEARNING RATE OF 0.01\n",
    "\n",
    "model = ResNet(block=ResidualBlock, num_blocks=[2,2,2,2]).to(DEVICE)\n",
    "\n",
    "optimizer = torch.optim.Adam(model.parameters(), lr=0.01)\n",
    "\n",
    "# train the ResNet and plot the loss\n",
    "plot_loss(\n",
    "    fit(model,train_dataloader = train_dataloader,optimizer = optimizer,epochs = 35,device = DEVICE)\n",
    ")\n",
    "\n",
    "# predict with the trained model\n",
    "predict(model,test_dataloader = test_dataloader,device = DEVICE)"
   ]
  },
  {
   "cell_type": "markdown",
   "metadata": {
    "id": "-VursWpErwri"
   },
   "source": [
    "### Evaluated! \n",
    "**Question:** It looks like the model without the residual connections performs better (3-4%), but on a closer examination of the training curves the residual model achieves lower loss much faster and then plateaus. You might try to add a scheduler to boost the performance!"
   ]
  },
  {
   "cell_type": "markdown",
   "metadata": {},
   "source": [
    "I did not notice the above-mentioned perfomance drop, that being said I am curious to investigate the implementation of a scheduler to further boost perfomarce!"
   ]
  },
  {
   "cell_type": "code",
   "execution_count": 70,
   "metadata": {},
   "outputs": [
    {
     "name": "stdout",
     "output_type": "stream",
     "text": [
      "=== Training and Evaluating Model WITH Skip Connections ===\n",
      "Epoch 1: Loss=1.8187, Learning Rate=0.100000\n",
      "Epoch 2: Loss=1.3899, Learning Rate=0.100000\n",
      "Epoch 3: Loss=1.1911, Learning Rate=0.100000\n",
      "Epoch 4: Loss=1.0155, Learning Rate=0.100000\n",
      "Epoch 5: Loss=0.8540, Learning Rate=0.100000\n",
      "Epoch 6: Loss=0.7407, Learning Rate=0.100000\n",
      "Epoch 7: Loss=0.6472, Learning Rate=0.100000\n",
      "Epoch 8: Loss=0.5680, Learning Rate=0.100000\n",
      "Epoch 9: Loss=0.5138, Learning Rate=0.100000\n",
      "Epoch 10: Loss=0.4524, Learning Rate=0.100000\n",
      "Epoch 11: Loss=0.4032, Learning Rate=0.100000\n",
      "Epoch 12: Loss=0.3615, Learning Rate=0.100000\n",
      "Epoch 13: Loss=0.3268, Learning Rate=0.100000\n",
      "Epoch 14: Loss=0.2692, Learning Rate=0.100000\n",
      "Epoch 15: Loss=0.2374, Learning Rate=0.100000\n",
      "Epoch 16: Loss=0.1929, Learning Rate=0.100000\n",
      "Epoch 17: Loss=0.1677, Learning Rate=0.100000\n",
      "Epoch 18: Loss=0.1420, Learning Rate=0.100000\n",
      "Epoch 19: Loss=0.1244, Learning Rate=0.100000\n",
      "Epoch 20: Loss=0.0955, Learning Rate=0.100000\n",
      "Epoch 21: Loss=0.0704, Learning Rate=0.100000\n",
      "Epoch 22: Loss=0.0517, Learning Rate=0.100000\n",
      "Epoch 23: Loss=0.0344, Learning Rate=0.100000\n",
      "Epoch 24: Loss=0.0193, Learning Rate=0.100000\n",
      "Epoch 25: Loss=0.0096, Learning Rate=0.100000\n",
      "Epoch 26: Loss=0.0041, Learning Rate=0.050000\n",
      "Epoch 27: Loss=0.0029, Learning Rate=0.050000\n",
      "Epoch 28: Loss=0.0025, Learning Rate=0.050000\n",
      "Epoch 29: Loss=0.0023, Learning Rate=0.050000\n",
      "Epoch 30: Loss=0.0021, Learning Rate=0.050000\n",
      "Epoch 31: Loss=0.0019, Learning Rate=0.050000\n",
      "Epoch 32: Loss=0.0018, Learning Rate=0.050000\n",
      "Epoch 33: Loss=0.0017, Learning Rate=0.050000\n",
      "Epoch 34: Loss=0.0016, Learning Rate=0.050000\n",
      "Epoch 35: Loss=0.0015, Learning Rate=0.050000\n",
      "=== Evaluation WITH Skip Connections ===\n",
      "Test set: Avg. loss: 1.0469, Accuracy: 7942/10000 (79%)\n"
     ]
    },
    {
     "data": {
      "image/png": "[encoded data removed]",
      "text/plain": [
       "<Figure size 640x480 with 1 Axes>"
      ]
     },
     "metadata": {},
     "output_type": "display_data"
    }
   ],
   "source": [
    "#LEARNING RATE SCHEDULER\n",
    "\n",
    "model_with_skip = ResNet(block=ResidualBlock, num_blocks=[2,2,2,2]).to(DEVICE)\n",
    "\n",
    "#different optimizer as we need to taylor the learning rate\n",
    "optimizer_with_skip = optim.SGD(model_with_skip.parameters(), lr=0.1, momentum=0.9)\n",
    "scheduler_with_skip = optim.lr_scheduler.StepLR(optimizer_with_skip, step_size=25, gamma=0.5)\n",
    "\n",
    "#tran and print\n",
    "print(\"=== Training and Evaluating Model WITH Skip Connections ===\")             #new_fit was made for the scheduler!!!!!!!!!!!\n",
    "train_losses_with_skip = new_fit(\n",
    "    model=model_with_skip,\n",
    "    train_dataloader=train_dataloader,\n",
    "    optimizer=optimizer_with_skip,\n",
    "    scheduler=scheduler_with_skip,\n",
    "    epochs=35,\n",
    "    device=DEVICE\n",
    ")\n",
    "\n",
    "#avaluate and plot\n",
    "print(\"=== Evaluation WITH Skip Connections ===\")\n",
    "predict(model=model_with_skip, test_dataloader=test_dataloader, device=DEVICE)\n",
    "\n",
    "plot_loss(train_losses_with_skip)\n"
   ]
  },
  {
   "cell_type": "markdown",
   "metadata": {},
   "source": [
    "As can be seen, if we implement a very simple scheduling (after a few tries) we see that over 35 epochs we can reach much better results than with a constant learning rate."
   ]
  }
 ],
 "metadata": {
  "accelerator": "GPU",
  "colab": {
   "gpuType": "T4",
   "provenance": []
  },
  "kernelspec": {
   "display_name": "Python 3",
   "language": "python",
   "name": "python3"
  },
  "language_info": {
   "codemirror_mode": {
    "name": "ipython",
    "version": 3
   },
   "file_extension": ".py",
   "mimetype": "text/x-python",
   "name": "python",
   "nbconvert_exporter": "python",
   "pygments_lexer": "ipython3",
   "version": "3.12.1"
  },
  "orig_nbformat": 4
 },
 "nbformat": 4,
 "nbformat_minor": 0
}
