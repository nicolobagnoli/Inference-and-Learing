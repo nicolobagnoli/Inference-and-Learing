{
 "cells": [
  {
   "cell_type": "markdown",
   "metadata": {},
   "source": [
    "In this notebook we will approach for the first time PyTorch. \n",
    "First we see how `torch` can help us to avoid long `numpy` code and then we will see how to use `torch` to build a simple neural network for classification.\n",
    "\n",
    "# Part 1: From Numpy to PyTorch\n",
    "\n",
    "**What will you learn in this part**:\n",
    "- Tensors syntax\n",
    "- Autograd\n",
    "- Neural Network modules"
   ]
  },
  {
   "cell_type": "markdown",
   "metadata": {},
   "source": [
    "Let's get back to last week exercise and migrate it to PyTorch. Luckily, the syntax is almost identical. The main difference is that *arrays* are replaced by *tensors*, and all the `np.*` functions become `torch.*`. For more advanced functionalities, we refer you to the [official documentation][torch_doc].\n",
    "\n",
    "[torch_doc]: https://pytorch.org/docs/stable/index.html\n",
    "\n",
    "## Single layer MLP in Numpy\n",
    "\n",
    "Recall the feedforward neural network with a single hidden layer.\n",
    "\n",
    "![simple_mlp](./simple_mlp.png)\n",
    "\n",
    "Below is the Numpy implementation of the activations and the feedforward propagation"
   ]
  },
  {
   "cell_type": "code",
   "execution_count": 39,
   "metadata": {},
   "outputs": [],
   "source": [
    "import numpy as np\n",
    "from typing import Tuple\n",
    "from numpy.typing import NDArray\n",
    "\n",
    "def np_sigmoid(t):\n",
    "    \"\"\"apply sigmoid function on t.\"\"\"\n",
    "    return 1.0 / (1 + np.exp(-t))\n",
    "\n",
    "def np_grad_sigmoid(t):\n",
    "    \"\"\"return the derivative of sigmoid on t.\"\"\"\n",
    "    return np_sigmoid(t) * (1 - np_sigmoid(t))\n",
    "\n",
    "def np_mlp(                                                                             #multi-layer perceptron, \n",
    "    x: NDArray[np.float_], w_1: NDArray[np.float_], w_2: NDArray[np.float_]\n",
    ") -> Tuple[NDArray[np.float_], NDArray[np.float_], NDArray[np.float_]]:                 #A tuple is an ordered, immutable collection of elements in Python. It is similar to a list but with one key difference: once a tuple is created, its values cannot be changed\n",
    "    \"\"\"Feed forward propagation on MLP\n",
    "\n",
    "    Args:\n",
    "        x (NDArray[np.float_]): Input vector of shape (d_in,)\n",
    "        w_1 (NDArray[np.float_]): Parameter matrix of first hidden layer, of shape (d_in, d_hid)\n",
    "        w_2 (NDArray[np.float_]): Parameter vector of output layer, of shape (d_hid,)\n",
    "\n",
    "    Returns:\n",
    "        Tuple[NDArray[np.float], NDArray[np.float], NDArray[np.float]]: Three\n",
    "            arrays `y_hat`, `z_1`, `z_2`, containing repsectively the output and\n",
    "            the two preactivations.\n",
    "    \"\"\"\n",
    "    z_1 = w_1.T @ x            #preactivation of the first hidden layer, w_1 is the weight matrix of the first hidden layer, x is the input vector\n",
    "    x_1 = np_sigmoid(z_1)      #activation of the first hidden layer\n",
    "    z_2 = w_2.T @ x_1          #preactivation of the output layer\n",
    "    y_hat = np_sigmoid(z_2)    #activation of the output layer, y_hat is the output of the network\n",
    "    \n",
    "    return y_hat, z_1, z_2"
   ]
  },
  {
   "cell_type": "markdown",
   "metadata": {},
   "source": [
    "And this is the backpropagation with the Mean-squared error loss $\\mathcal L (y, \\hat y) = \\frac{1}{2} \\left( y - \\hat y \\right)^2$:"
   ]
  },
  {
   "cell_type": "code",
   "execution_count": 40,
   "metadata": {},
   "outputs": [],
   "source": [
    "def np_mlp_backpropagation(\n",
    "    y: NDArray[np.int_],\n",
    "    x: NDArray[np.float_],\n",
    "    w_2: NDArray[np.float_],\n",
    "    y_hat: NDArray[np.float_],\n",
    "    z_1: NDArray[np.float_],\n",
    "    z_2: NDArray[np.float_],\n",
    ") -> Tuple[NDArray[np.float_], NDArray[np.float_]]:\n",
    "    \"\"\"Do backpropagation and get parameter gradients.\n",
    "\n",
    "    Args:\n",
    "        y (NDArray[np.int_]): True label\n",
    "        x (NDArray[np.float_]): Input data\n",
    "        w_2 (NDArray[np.float_]): Readout layer parameters\n",
    "        y_hat (NDArray[np.float_]): MLP output\n",
    "        z_1 (NDArray[np.float_]): Hidden layer preactivations\n",
    "        z_2 (NDArray[np.float_]): Readout layer preactivations\n",
    "\n",
    "    Returns:\n",
    "        Tuple[NDArray[np.float_], NDArray[np.float_]]: Gradients of w_1 and w_2\n",
    "    \"\"\"\n",
    "    # Feed forward\n",
    "    _loss = 0.5 * (y - y_hat)**2                              #loss function, whtat we want to minimize\n",
    "    # Backpropogation\n",
    "    delta_2 = (y_hat - y) * np_grad_sigmoid(z_2)              #delta_2 is the gradient of the loss function with respect to the preactivation of the output layer\n",
    "    x_1 = np_sigmoid(z_1)                                     #activation of the first hidden layer,as above\n",
    "    dw_2 = delta_2 * x_1                                      #gradient of the loss function with respect to the weight matrix of the output layer\n",
    "    delta_1 = delta_2 * w_2* np_grad_sigmoid(z_1)             #delta_1 is the gradient of the loss function with respect to the preactivation of the first hidden layer\n",
    "    dw_1 = np.outer(x, delta_1)                               #gradient of the loss function with respect to the weight matrix of the first hidden layer\n",
    "\n",
    "    return dw_1, dw_2"
   ]
  },
  {
   "cell_type": "markdown",
   "metadata": {},
   "source": [
    "Now, we can compute the MLP output and retrieve the gradients"
   ]
  },
  {
   "cell_type": "code",
   "execution_count": 41,
   "metadata": {},
   "outputs": [
    {
     "name": "stdout",
     "output_type": "stream",
     "text": [
      "(4, 5)\n",
      "(5,)\n"
     ]
    }
   ],
   "source": [
    "x_np = np.array([0.01, 0.02, 0.03, 0.04])  # input vector\n",
    "w_1_np = np.random.randn(4, 5)   # weight matrix of the first hidden layer, 4 input neurons and 5 hidden neurons, generate random numbers from a normal distribution\n",
    "w_2_np = np.random.randn(5)      # weight matrix of the output layer, 5 hidden neurons and 1 output neuron, generate random numbers from a normal distribution\n",
    "\n",
    "y = 1   #truel label\n",
    "\n",
    "y_hat_np, z_1, z_2 = np_mlp(x_np, w_1_np, w_2_np)   #feed forward propagation\n",
    "dw_1_np, dw_2_np = np_mlp_backpropagation(y, x_np, w_2_np, y_hat_np, z_1, z_2)  #backpropagation\n",
    "\n",
    "print(dw_1_np.shape)\n",
    "print(dw_2_np.shape)"
   ]
  },
  {
   "cell_type": "markdown",
   "metadata": {},
   "source": [
    "This indeed works, but as soon as we change the neural network architecture we have to change our backpropagation function, and keep track of all the computations that involve each parameter. It is a lot of work which we want to delegate to the machine.\n",
    "This is what *automatic differentiation* does, and libraries like PyTorch implement it."
   ]
  },
  {
   "cell_type": "markdown",
   "metadata": {},
   "source": [
    "## Exercise 1\n",
    "\n",
    "We can manipulate tensors as we want and, by asking for `require_grad=True`, PyTorch handles automatic differentation!"
   ]
  },
  {
   "cell_type": "code",
   "execution_count": 42,
   "metadata": {},
   "outputs": [
    {
     "name": "stdout",
     "output_type": "stream",
     "text": [
      "Collecting torch\n",
      "  Using cached torch-2.5.1-cp312-cp312-win_amd64.whl.metadata (28 kB)\n",
      "Requirement already satisfied: filelock in c:\\users\\nicol\\appdata\\local\\programs\\python\\python312\\lib\\site-packages (from torch) (3.16.1)\n",
      "Requirement already satisfied: typing-extensions>=4.8.0 in c:\\users\\nicol\\appdata\\local\\programs\\python\\python312\\lib\\site-packages (from torch) (4.12.2)\n",
      "Requirement already satisfied: networkx in c:\\users\\nicol\\appdata\\local\\programs\\python\\python312\\lib\\site-packages (from torch) (3.4.2)\n",
      "Requirement already satisfied: jinja2 in c:\\users\\nicol\\appdata\\local\\programs\\python\\python312\\lib\\site-packages (from torch) (3.1.4)\n",
      "Requirement already satisfied: fsspec in c:\\users\\nicol\\appdata\\local\\programs\\python\\python312\\lib\\site-packages (from torch) (2024.10.0)\n",
      "Requirement already satisfied: setuptools in c:\\users\\nicol\\appdata\\local\\programs\\python\\python312\\lib\\site-packages (from torch) (70.0.0)\n",
      "Requirement already satisfied: sympy==1.13.1 in c:\\users\\nicol\\appdata\\local\\programs\\python\\python312\\lib\\site-packages (from torch) (1.13.1)\n",
      "Requirement already satisfied: mpmath<1.4,>=1.1.0 in c:\\users\\nicol\\appdata\\local\\programs\\python\\python312\\lib\\site-packages (from sympy==1.13.1->torch) (1.3.0)\n",
      "Requirement already satisfied: MarkupSafe>=2.0 in c:\\users\\nicol\\appdata\\local\\programs\\python\\python312\\lib\\site-packages (from jinja2->torch) (3.0.2)\n",
      "Using cached torch-2.5.1-cp312-cp312-win_amd64.whl (203.0 MB)\n",
      "Installing collected packages: torch\n",
      "Successfully installed torch-2.5.1\n"
     ]
    }
   ],
   "source": [
    "!pip install torch"
   ]
  },
  {
   "cell_type": "code",
   "execution_count": 43,
   "metadata": {},
   "outputs": [
    {
     "name": "stdout",
     "output_type": "stream",
     "text": [
      "c tensor(nan, grad_fn=<SumBackward0>)\n",
      "c.shape: torch.Size([])\n",
      "\n",
      "b.grad: tensor([-40.0925,  67.3768, -29.8637,  27.6640, -15.0846])\n",
      "b.grad.shape: torch.Size([5])\n"
     ]
    }
   ],
   "source": [
    "import torch\n",
    "\n",
    "# EXAMPLE of automatic differentiation by calculating gradients of a scalar c with respect to a tensor b, which is essential for optimization tasks in machine learning.\n",
    "\n",
    "a = torch.randn(10, 5)                           #random tensor of shape (10, 5), generate random numbers from a normal distribution (mean=0, std=1)\n",
    "b = torch.ones(5, requires_grad=True)            #requires_grad=True means that we want to track operations on this tensor so that we can compute the gradient later. This is useful in optimization tasks, like updating weights in machine learning.r\n",
    "\n",
    "# Note that c is a scalar\n",
    "c = torch.log(a @ b).sum()                       #matrix multiplication of a and b, then take the log of the result and sum all the elements\n",
    "print(\"c\", c)\n",
    "print(\"c.shape:\", c.shape)\n",
    "print()                                          #to confirm c is a scalar\n",
    "\n",
    "# We ask to perform backpropagation\n",
    "c.backward()                                     #compute the gradient of c with respect to b!!!\n",
    "\n",
    "print(\"b.grad:\", b.grad)                         #print the gradient of c with respect to b\n",
    "print(\"b.grad.shape:\", b.grad.shape)             #print the shape of the gradient of c with respect to b"
   ]
  },
  {
   "cell_type": "markdown",
   "metadata": {},
   "source": [
    "We now convert the previous code to PyTorch. Autograd is responsible of keeping track of each element in the computations, so we only need to implement the forward pass!"
   ]
  },
  {
   "cell_type": "code",
   "execution_count": 44,
   "metadata": {},
   "outputs": [],
   "source": [
    "def sigmoid(t) -> torch.FloatTensor:\n",
    "    \"\"\"apply sigmoid function on t.\"\"\"\n",
    "    return 1.0 / (1 + torch.exp(-t))\n",
    "\n",
    "def grad_sigmoid(t) -> torch.FloatTensor:\n",
    "    \"\"\"return the derivative of sigmoid on t.\"\"\"\n",
    "    return sigmoid(t) * (1 - sigmoid(t))\n",
    "\n",
    "def mlp(\n",
    "    x: torch.Tensor, w_1: torch.Tensor, w_2: torch.Tensor\n",
    ") -> torch.Tensor:\n",
    "    \"\"\"Feed forward propagation on MLP\n",
    "\n",
    "    Args:\n",
    "        x (torch.Tensor): Input vector of shape (d_in,)\n",
    "        w_1 (torch.Tensor): Parameter matrix of first hidden layer, of shape (d_in, d_hid)\n",
    "        w_2 (torch.Tensor): Parameter vector of output layer, of shape (d_hid,)\n",
    "\n",
    "    Returns:\n",
    "        torch.Tensor: Network output\n",
    "    \"\"\"\n",
    "    z_1 = w_1.T @ x \n",
    "    x_1 = sigmoid(z_1)\n",
    "    z_2 = w_2.T @ x_1\n",
    "    y_hat = sigmoid(z_2)\n",
    "    \n",
    "    return y_hat"
   ]
  },
  {
   "cell_type": "markdown",
   "metadata": {},
   "source": [
    "Now, we can verify that the output corresponds to the numpy implementation"
   ]
  },
  {
   "cell_type": "code",
   "execution_count": 45,
   "metadata": {},
   "outputs": [
    {
     "name": "stdout",
     "output_type": "stream",
     "text": [
      "True\n",
      "True\n"
     ]
    },
    {
     "name": "stderr",
     "output_type": "stream",
     "text": [
      "C:\\Users\\nicol\\AppData\\Local\\Temp\\ipykernel_23900\\2719093653.py:24: UserWarning: The use of `x.T` on tensors of dimension other than 2 to reverse their shape is deprecated and it will throw an error in a future release. Consider `x.mT` to transpose batches of matrices or `x.permute(*torch.arange(x.ndim - 1, -1, -1))` to reverse the dimensions of a tensor. (Triggered internally at C:\\actions-runner\\_work\\pytorch\\pytorch\\builder\\windows\\pytorch\\aten\\src\\ATen\\native\\TensorShape.cpp:3687.)\n",
      "  z_2 = w_2.T @ x_1\n"
     ]
    }
   ],
   "source": [
    "#vvvvv YOUR CODE HERE vvvvv#\n",
    "\n",
    "# Convert arrays to tensors. Mind that we will ask for parameters gradients!\n",
    "w_1 = torch.tensor(w_1_np, requires_grad=True)      #creates a tensor that PyTorch will track for gradients, which is important for backpropagation.\n",
    "w_2 = torch.tensor(w_2_np, requires_grad=True) \n",
    "\n",
    "#Now perform backpropagation\n",
    "\n",
    "y_hat = mlp(torch.tensor(x_np), w_1, w_2)  #mlp is the feed forward function, y_hat is the output of the network\n",
    "c = 0.5 * (y_hat - y)**2                   #loss function, what we want to minimize\n",
    "c.backward()                               #calling .backward() on the loss c initiates backpropagation, automatically calculating gradients for all tensors with requires_grad=True.\n",
    "\n",
    "#^^^^^^^^^^^^^^^^^^^^^^^^^^#\n",
    "\n",
    "#w_1.grad and w_2.grad now hold the gradients of the loss with respect to w_1 and w_2.\n",
    "#we compare the gradients calculated by PyTorch with the ones calculated by NumPy.\n",
    "\n",
    "print(np.allclose(w_1.grad.numpy(), dw_1_np))\n",
    "print(np.allclose(w_2.grad.numpy(), dw_2_np))"
   ]
  },
  {
   "cell_type": "markdown",
   "metadata": {},
   "source": [
    "## Exercise 2.1\n",
    "\n",
    "Computing gradients has now got much easier! :grin:\n",
    "\n",
    "Still, PyTorch provides an even easier interface to build and train neural networks, whose components are in the `torch.nn` module.\n",
    "The main tool is the `torch.nn.Module` class, from which all neural networks shall inherit. This must implement a `forward` method, and, if needed, declare its parameters in the `__init__` method. \n",
    "\n",
    "Let's convert our MLP to a proper Module"
   ]
  },
  {
   "cell_type": "code",
   "execution_count": 46,
   "metadata": {},
   "outputs": [],
   "source": [
    "class MLP(torch.nn.Module):\n",
    "\n",
    "    #__init__ is a special method in Python classes, it is the constructor method for a class. It is called when an object of the class is created. \n",
    "    def __init__(self, dim_in: int, dim_hidden: int) -> None:  #dim_in is the number of input neurons, dim_hidden is the number of hidden neurons, self is a reference to the instance of the class, None is a special constant in Python that represents the absence of a value. In this case we need None because __init__ does not return anything.\n",
    "        super(MLP, self).__init__()      #super() is a built-in Python function that returns the proxy object that allows you to refer parent class by 'super'. Here we are calling the constructor of the parent class (torch.nn.Module) to initialize the object.\n",
    "        self.w_1 = torch.nn.Parameter(torch.randn(dim_in, dim_hidden)) #torch.nn.Parameter is a wrapper for tensors that are to be considered parameters of a model (the ones the model will learn/optimize).\n",
    "        self.w_2 = torch.nn.Parameter(torch.randn(dim_hidden))         #torch.randn creates a tensor with random numbers from a normal distribution (mean=0, std=1)\n",
    "    \n",
    "\n",
    "    #forward is a method that is called when we apply the model to data. It is the feed forward function of the network. This is where the input data x is passed through the network.\n",
    "    #By using self.w_1, we're specifically accessing the weights that belong to this instance of MLP. This is important because if you create multiple instances of the MLP class (for example, two different models), each one will have its own version of w_1 and w_2 weights, and self ensures each instance uses its own weights during the computation.\n",
    "    def forward(self, x: torch.Tensor) -> torch.Tensor:   #x is the input data, torch.Tensor is a multi-dimensional matrix containing elements of a single data type. \n",
    "        z_1 = self.w_1.T @ x\n",
    "        x_1 = sigmoid(z_1)\n",
    "        z_2 = self.w_2.T @ x_1\n",
    "        y_hat = sigmoid(z_2)\n",
    "        \n",
    "        return y_hat"
   ]
  },
  {
   "cell_type": "markdown",
   "metadata": {},
   "source": [
    "Even better, `torch.nn` comes with a lot of layers and functions which are ready to use.\n",
    "\n",
    "For instance, we have a `torch.sigmoid` function, as well as `torch.nn.Linear` layer and a `torch.nn.MSELoss` loss.\n",
    "\n",
    "Here is a minimal implementation of our forward and backward pass:"
   ]
  },
  {
   "cell_type": "code",
   "execution_count": 47,
   "metadata": {},
   "outputs": [],
   "source": [
    "from torch import nn\n",
    "\n",
    "class MyMLP(nn.Module):\n",
    "    def __init__(self, dim_in: int, dim_hidden: int) -> None:\n",
    "        super().__init__()\n",
    "\n",
    "        #Linear has a `bias` term by default! Each nn.Linear layer automatically manages weights and biases (if bias=True).\n",
    "        self.linear1 = nn.Linear(dim_in, dim_hidden, bias=False)\n",
    "        self.linear2 = nn.Linear(dim_hidden, 1, bias=False)\n",
    "    \n",
    "    def forward(self, x):\n",
    "        x = self.linear1(x).sigmoid()      #sigmoid activation function is applied to the output of the first hidden layer\n",
    "        return self.linear2(x).sigmoid()    #sigmoid activation function is applied to the output of the second hidden layer"
   ]
  },
  {
   "cell_type": "markdown",
   "metadata": {},
   "source": [
    "Now initialize your model and compute the gradients with resect to the MSE loss"
   ]
  },
  {
   "cell_type": "code",
   "execution_count": 48,
   "metadata": {},
   "outputs": [
    {
     "name": "stdout",
     "output_type": "stream",
     "text": [
      "Gradient of linear1.weight: tensor([[-5.2706e-04,  2.1295e-03, -2.1320e-03, -2.5938e-04,  9.0338e-04,\n",
      "         -1.5835e-03,  2.4038e-03, -5.4548e-04, -3.7586e-03,  1.9786e-03],\n",
      "        [-1.9302e-03,  7.9884e-03, -8.7913e-03, -1.1320e-03,  3.7826e-03,\n",
      "         -6.9147e-03,  9.2032e-03, -2.7076e-03, -1.4740e-02,  8.4287e-03],\n",
      "        [ 1.5407e-03, -5.3835e-03,  4.2855e-03,  9.9816e-05, -1.8580e-03,\n",
      "          2.8347e-03, -5.2761e-03,  7.7897e-04,  7.7835e-03, -3.9094e-03],\n",
      "        [-1.6105e-04,  1.0718e-03, -1.3630e-03, -3.9261e-04,  5.2421e-04,\n",
      "         -1.0389e-03,  1.6084e-03, -3.2107e-04, -2.6300e-03,  1.1763e-03],\n",
      "        [ 3.3592e-03, -1.3810e-02,  1.4606e-02,  1.8681e-03, -6.2346e-03,\n",
      "          1.1210e-02, -1.5820e-02,  4.1589e-03,  2.5078e-02, -1.3793e-02]])\n",
      "Gradient of linear2.weight: tensor([[0.0828, 0.0988, 0.1031, 0.0786, 0.0642]])\n"
     ]
    }
   ],
   "source": [
    "#select the dimensions of the input and hidden layers, and create an instance of the MyMLP class with these dimensions.\n",
    "dim_in = 10\n",
    "dim_hidden = 5\n",
    "model = MyMLP(dim_in, dim_hidden)\n",
    "\n",
    "\n",
    "x = torch.randn(3, dim_in)    #random input data of shape (3, dim_in)\n",
    "target = torch.randn(3, 1)    #random target data of shape (3, 1)\n",
    "output = model(x)             #feed forward pass of the model\n",
    "\n",
    "criterion = nn.MSELoss()               #mean squared error loss function\n",
    "loss = criterion(output, target)       #calculate the loss between the output of the model and the target data\n",
    "\n",
    "loss.backward()                        #backpropagation\n",
    "\n",
    "# Check gradients\n",
    "for name, param in model.named_parameters():\n",
    "    print(f\"Gradient of {name}: {param.grad}\")\n"
   ]
  },
  {
   "cell_type": "markdown",
   "metadata": {},
   "source": [
    "## Exercise 2.2\n",
    "\n",
    "\n",
    "Check the sizes of the gradients of each layer and verify that they correspond to what you expect."
   ]
  },
  {
   "cell_type": "code",
   "execution_count": 49,
   "metadata": {},
   "outputs": [
    {
     "name": "stdout",
     "output_type": "stream",
     "text": [
      "Parameter: linear1.weight\n",
      "Expected gradient size: torch.Size([5, 10])\n",
      "Actual gradient size: torch.Size([5, 10])\n",
      "Parameter: linear2.weight\n",
      "Expected gradient size: torch.Size([1, 5])\n",
      "Actual gradient size: torch.Size([1, 5])\n"
     ]
    }
   ],
   "source": [
    "\n",
    "for name, param in model.named_parameters():\n",
    "    print(f\"Parameter: {name}\")\n",
    "    print(f\"Expected gradient size: {param.size()}\")\n",
    "    print(f\"Actual gradient size: {param.grad.size()}\")\n"
   ]
  },
  {
   "cell_type": "markdown",
   "metadata": {},
   "source": [
    "## One more thing...\n",
    "\n",
    "The `nn.Sequential` module stacks the given layer one after the other.\n",
    "Still, to get more control on the forward, is better to stick to self-defined module"
   ]
  },
  {
   "cell_type": "code",
   "execution_count": 50,
   "metadata": {},
   "outputs": [
    {
     "name": "stdout",
     "output_type": "stream",
     "text": [
      "Sequential(\n",
      "  (0): Linear(in_features=10, out_features=5, bias=False)\n",
      "  (1): Sigmoid()\n",
      "  (2): Linear(in_features=5, out_features=1, bias=False)\n",
      "  (3): Sigmoid()\n",
      ")\n"
     ]
    }
   ],
   "source": [
    "sequential_mlp = nn.Sequential(                                  #nn.Sequential is a container module in PyTorch that allows you to stack layers and functions in a specified order. Each element is executed one after the other, so the input flows through each part sequentially.\n",
    "    nn.Linear(dim_in, dim_hidden, bias=False),                \n",
    "    nn.Sigmoid(),\n",
    "    nn.Linear(dim_hidden, 1, bias=False),\n",
    "    nn.Sigmoid(),\n",
    ")\n",
    "\n",
    "print(sequential_mlp)"
   ]
  },
  {
   "cell_type": "markdown",
   "metadata": {},
   "source": [
    "# Part 2: Hands on MNIST\n",
    "\n",
    "**What you will learn in the second part**: This lab serves as an introduction to PyTorch. We will learn the different steps required in training a deep learning model with modern libraries, such as PyTorch.\n",
    "\n",
    "So, which are these steps?\n",
    "\n",
    "* Preliminaries:\n",
    "    * load the train and test datasets, `train_dataset` and `test_dataset` (MNIST in our case)\n",
    "    * turn the datasets into a \"dataloaders\": `train_dataloader` and `test_dataloader`\n",
    "    * define your `model` architecture\n",
    "    * define your `optimizer`, e.g. SGD\n",
    "\n",
    "\n",
    "* Training: Now we have all the building blocks and we need to make our model \"learn\". In most cases, the training follows a specific \"recipe\". Specifically, we feed the `model` the whole `train_dataset` using batches that come from the `train_dataloader`. We repeat this a certain number of times, called `epochs`. Each epoch consists of `batches`. So what do we do for each batch?\n",
    "    * zero out the optimizer. In essence we prepare the optimizer for the incoming data\n",
    "    * compute the output of the model $f(\\cdot)$ for our current data: $x\\mapsto f(x)$\n",
    "    * compute the loss: $\\mathcal{L}(f(x), y)$ where $y$ denotes the ground truth\n",
    "    * perform the `backpropagation` algorithm which involves computing the gradients and performing the update rule\n",
    "\n",
    "## Getting the preliminaries out of the way\n"
   ]
  },
  {
   "cell_type": "code",
   "execution_count": 51,
   "metadata": {},
   "outputs": [],
   "source": [
    "# first we load all the necessary libraries\n",
    "import torch\n",
    "import torch.nn as nn\n",
    "import torchvision\n",
    "import torchvision.transforms as T\n",
    "from torch.utils.data import DataLoader"
   ]
  },
  {
   "cell_type": "markdown",
   "metadata": {},
   "source": [
    "We now load the datasets. We are going to work with MNIST and our goal is classify digits. This is a popular dataset and PyTorch offers it out-of-the-box, making our life easy! We simply need to call the corresponding method."
   ]
  },
  {
   "cell_type": "code",
   "execution_count": 52,
   "metadata": {},
   "outputs": [],
   "source": [
    "# The data are given as PIL images. We need to convert our data to a type \n",
    "# that is readable by a Neural Network. Thus, we use the ToTensor() \"transform\"\n",
    "transform = T.Compose([     \n",
    "    T.ToTensor(),                                      #This transformation converts a PIL (Python Imaging Library) image or a NumPy array (typically an image in the form of an array) into a PyTorch tensor. The pixel values of an image, which are usually in the range [0, 255], will be scaled to the range [0, 1]. \n",
    "    # T.Normalize((0.1307,), (0.3081,))\n",
    "])\n",
    "\n",
    "# load the train dataset\n",
    "# Hint: look at \n",
    "# 1. https://pytorch.org/tutorials/beginner/basics/data_tutorial.html\n",
    "# 2. https://pytorch.org/vision/stable/datasets.html\n",
    "train_dataset = torchvision.datasets.MNIST(\n",
    "    root='./data/', \n",
    "    train=True, \n",
    "    download=True,\n",
    "    transform=transform)\n",
    "\n",
    "# load the test dataset\n",
    "test_dataset = torchvision.datasets.MNIST(\n",
    "    root='./data/', \n",
    "    train=False, \n",
    "    download=True,\n",
    "    transform=transform)"
   ]
  },
  {
   "cell_type": "code",
   "execution_count": 53,
   "metadata": {},
   "outputs": [
    {
     "name": "stdout",
     "output_type": "stream",
     "text": [
      "cuda\n"
     ]
    }
   ],
   "source": [
    "# define the hyperparameters\n",
    "BATCH_SIZE = 1024\n",
    "TEST_BATCH_SIZE = 2048\n",
    "LEARNING_RATE = 0.01\n",
    "\n",
    "# find out which device is available\n",
    "def device_type():\n",
    "    if torch.cuda.is_available():\n",
    "        return 'cuda'\n",
    "    elif torch.backends.mps.is_available():\n",
    "        return 'mps'\n",
    "    else:\n",
    "        return 'cpu'\n",
    "DEVICE = torch.device(device_type())\n",
    "print(DEVICE)"
   ]
  },
  {
   "cell_type": "markdown",
   "metadata": {},
   "source": [
    "However, we cannot use the whole dataset; it is too large for computers to handle. Instead, we perform *stochastic* gradient descent, i.e. we feed the model part of the data called batches. In order to do so, we use Pytorch DataLoaders. "
   ]
  },
  {
   "cell_type": "code",
   "execution_count": 54,
   "metadata": {},
   "outputs": [],
   "source": [
    "# construct the dataloader for the traininig dataset. \n",
    "# Here we shuffle the data to promote stochasticity.\n",
    "train_dataloader = torch.utils.data.DataLoader(      #DataLoader is a class in PyTorch that loads data from a Dataset and provides a way to iterate over the specified dataset. It combines a dataset and a sampler, and provides single- or multi-process iterators over the dataset.\n",
    "    dataset=train_dataset, \n",
    "    batch_size=BATCH_SIZE,\n",
    "    shuffle=True, \n",
    "    num_workers=0)            #num_workers is the number of subprocesses to use for data loading. 0 means that the data will be loaded in the main process.\n",
    "\n",
    "\n",
    "# Construct the dataloader for the testing dataset.\n",
    "test_dataloader = torch.utils.data.DataLoader(\n",
    "    dataset=test_dataset, \n",
    "    batch_size=TEST_BATCH_SIZE,\n",
    "    shuffle=False, \n",
    "    num_workers=0)"
   ]
  },
  {
   "cell_type": "markdown",
   "metadata": {},
   "source": [
    "Now, let's visualize some samples."
   ]
  },
  {
   "cell_type": "code",
   "execution_count": 55,
   "metadata": {},
   "outputs": [
    {
     "data": {
      "image/png": "[encoded data removed]",
      "text/plain": [
       "<Figure size 640x480 with 1 Axes>"
      ]
     },
     "metadata": {},
     "output_type": "display_data"
    }
   ],
   "source": [
    "import matplotlib.pyplot as plt\n",
    "import numpy as np\n",
    "\n",
    "# Get the first 10 images of the train dataset. Hint: use next(), iter()\n",
    "images = next(iter(train_dataloader))[0][:10]\n",
    "grid = torchvision.utils.make_grid(images, nrow=5, padding=10)\n",
    "\n",
    "def show(img):\n",
    "    npimg = img.numpy()\n",
    "    plt.imshow(np.transpose(npimg, (1,2,0)), interpolation='nearest')\n",
    "\n",
    "show(grid)"
   ]
  },
  {
   "cell_type": "markdown",
   "metadata": {},
   "source": [
    "## Exercise 3\n",
    "Now, we are ready to define our model. We will start with a simple model, a MultiLayer Perceptron (MLP) with 2 layers."
   ]
  },
  {
   "cell_type": "code",
   "execution_count": 56,
   "metadata": {},
   "outputs": [],
   "source": [
    "import torch.nn as nn\n",
    "import torch.nn.functional as F\n",
    "import torch.optim as optim\n",
    "\n",
    "class Net(nn.Module):                                           #here we define a very simple neural network class with one hidden layer. This defines a new class named Net, which inherits from nn.Module, By inheriting from nn.Module, Net becomes a PyTorch model with useful functionalities like tracking parameters and gradients.\n",
    "    def __init__(self):                                         #This is the constructor for the Net class. When you create an instance of Net, this constructor sets up the architecture of the neural network. __init__ is a special method in Python classes, it is the constructor method for a class. It is called when an object of the class is created.\n",
    "                                                                #self is a reference to the instance of the class. It is used to access variables that belong to the class. It is not a keyword in Python, it is just a convention.\n",
    "        \n",
    "        # define the different modules of the class\n",
    "        super().__init__()                                      #super() is a built-in Python function that returns the proxy object that allows you to refer parent class by 'super'. Here we are calling the constructor of the parent class (nn.Module) to initialize the object.\n",
    "        # How many features should our model have?\n",
    "        self.fc1 = nn.Linear(784, 50)                           #nn.Linear is a class in PyTorch that applies a linear transformation to the incoming data. It has two parameters: in_features and out_features. in_features is the size of each input sample, and out_features is the size of each output sample. Here, we have 784 input features and 50 output features.\n",
    "        # How many outputs should our model have?\n",
    "        self.fc2 = nn.Linear(50, 10)\n",
    "        # we also define the non-linearity \n",
    "        self.relu = nn.ReLU()                                   #nn.ReLU is a class in PyTorch that applies the rectified linear unit function element-wise. It has no parameters.\n",
    "\n",
    "\n",
    "\n",
    "    def forward(self, x: torch.Tensor) -> torch.Tensor:\n",
    "        # ***************************************************\n",
    "        # INSERT YOUR CODE HERE\n",
    "        # You should (a) transform the a size that is readable\n",
    "        # by the MLP and (b) pass the the input x successively \n",
    "        # through the layers.\n",
    "        # ***************************************************\n",
    "        # transform the image to a vector\n",
    "\n",
    "        x = x.view(-1, 784)  #flatten the image to a vector of size 784\n",
    "        x = self.fc1(x)     #pass the input through the first layer\n",
    "        x = self.relu(x)    #apply the ReLU activation function\n",
    "        output = self.fc2(x)     #pass the input through the second layer\n",
    "    \n",
    "        return output"
   ]
  },
  {
   "cell_type": "code",
   "execution_count": 57,
   "metadata": {},
   "outputs": [],
   "source": [
    "# initialize the model\n",
    "model = Net()\n",
    "\n",
    "# move model to device\n",
    "model = model.to(DEVICE)           #move the model to the device (CPU or GPU) that we defined earlier, GPU BABY!!!\n",
    "\n",
    "# define the optimizer\n",
    "# Hint: https://pytorch.org/docs/stable/optim.html\n",
    "optimizer = optim.SGD(model.parameters(), lr=LEARNING_RATE)     #optim.SGD is the stochastic gradient descent optimizer. It is used to update the weights of the model during training. model.parameters() returns an iterator over all the parameters of the model, and lr is the learning rate."
   ]
  },
  {
   "cell_type": "markdown",
   "metadata": {},
   "source": [
    "We now define:\n",
    "* the `fit` function that performs the training part\n",
    "* the `predict` function that takes as input the test dataloader and prints the performance metrics (e.g. accuracy)"
   ]
  },
  {
   "cell_type": "code",
   "execution_count": 58,
   "metadata": {},
   "outputs": [],
   "source": [
    "def train_epoch(model: nn.Module, train_dataloader: DataLoader, optimizer: torch.optim.Optimizer, device: torch.device):  #model is the neural model defined above, train_dataloader is the dataloader for the training dataset, optimizer is the optimizer defined above, device is the device (CPU or GPU) that we defined earlier\n",
    "    '''\n",
    "    This function implements the core components of any Neural Network training regiment.\n",
    "    In our stochastic setting our code follows a very specific \"path\". First, we load the batch\n",
    "    a single batch and zero the optimizer. Then we perform the forward pass, compute the gradients and perform the backward pass. And ...repeat!\n",
    "    '''\n",
    "    #INITIALIZAION\n",
    "    \n",
    "    running_loss = 0.0     #initialize the running loss to 0, this will be used to keep track of the loss during training\n",
    "    model = model.to(device)    #move the model to the device (CPU or GPU) that we defined earlier\n",
    "    model.train()               #set the model to training mode, this is important because some layers behave differently during training and testing (e.g., dropout layers)!!!!!!!!!!!!!!!!!!!!!!!!!!!!!!!!!\n",
    "    \n",
    "    #LOOP THOUG BATCHES\n",
    "\n",
    "    for batch_idx, (data, target) in enumerate(train_dataloader):\n",
    "        # move data and target to device, GPU\n",
    "        data, target = data.to(device), target.to(device)\n",
    "\n",
    "        # zero the parameter gradients, prevent accumulation of gradients\n",
    "        optimizer.zero_grad()\n",
    "\n",
    "        # do the forward pass, so passes the da to the model and gets the output\n",
    "        output = model(data)\n",
    "\n",
    "        # compute the loss between the output and the target\n",
    "        loss = F.cross_entropy(output, target)\n",
    "\n",
    "        # compute the gradients with respect to the loss, using backpropagation!!!!!!!!!!!!!!!!!\n",
    "        loss.backward()\n",
    "\n",
    "        # perform the gradient step, update the weights using the gradients\n",
    "        optimizer.step()\n",
    "        \n",
    "        # print statistics, accumulate the loss over the batches \n",
    "        running_loss += loss.item()\n",
    "    \n",
    "    return running_loss / len(train_dataloader.dataset)         #return the average loss over the batches\n",
    "\n",
    "\n",
    "def fit(model: nn.Module, train_dataloader: DataLoader, optimizer: torch.optim.Optimizer, epochs: int, device: torch.device):  #for training\n",
    "    '''\n",
    "    the fit method simply calls the train_epoch() method for a \n",
    "    specified number of epochs.\n",
    "    '''\n",
    "\n",
    "    # keep track of the losses in order to visualize them later\n",
    "    # Train for numerous epochs:\n",
    "    losses = []\n",
    "    for epoch in range(epochs):\n",
    "        running_loss = train_epoch(model=model, train_dataloader=train_dataloader, optimizer=optimizer, device=device)\n",
    "        print(f\"Epoch {epoch}: Loss={running_loss}\")\n",
    "        losses.append(running_loss)\n",
    "\n",
    "    return losses\n",
    "\n",
    "def predict(model: nn.Module, test_dataloader: DataLoader, device: torch.device):     #for testing\n",
    "    model.eval()     #set the model to evaluation mode, this is important because some layers behave differently during training and testing (e.g., dropout layers)!!!!!!!!!!!!!!!!!!!!!!!!!!!!!!!!! above was model.train()\n",
    "    test_loss = 0   #initilize the test loss to 0\n",
    "    correct = 0     #initialize the number of correct predictions to 0\n",
    "    with torch.no_grad():    #disable gradient computation, because we are not training the model\n",
    "        for data, target in test_dataloader:                     #iterate over the test dataset\n",
    "            data, target = data.to(device), target.to(device)    #move data and target to the device (CPU or GPU) that we defined earlier\n",
    "            output = model(data)                                 #pass the data to the model and get the output\n",
    "            loss = F.cross_entropy(output, target)               #compute the loss between the output and the target\n",
    "            test_loss += loss.item()                             #accumulate the loss over the batches\n",
    "            pred = output.data.max(1, keepdim=True)[1]           #get the index of the max log-probability\n",
    "            correct += pred.eq(target.data.view_as(pred)).sum()  #compute the number of correct predictions\n",
    "\n",
    "    test_loss /= len(test_dataloader.dataset)                    #compute the average loss over the batches\n",
    "    accuracy = 100. * correct / len(test_dataloader.dataset)     #compute the accuracy of the model\n",
    "\n",
    "    print(f'Test set: Avg. loss: {test_loss:.4f}, Accuracy: {correct}/{len(test_dataloader.dataset)} ({accuracy:.0f}%)')"
   ]
  },
  {
   "cell_type": "markdown",
   "metadata": {},
   "source": [
    "We perform a \"sanity check\". Our model is at the moment initialized randomly and we have 10 classes (each class has approximately the same number of samples). This means that we should get random performance -> ~10% accuracy."
   ]
  },
  {
   "cell_type": "code",
   "execution_count": null,
   "metadata": {},
   "outputs": [
    {
     "name": "stdout",
     "output_type": "stream",
     "text": [
      "Test set: Avg. loss: 0.0011, Accuracy: 1068/10000 (11%)\n"
     ]
    }
   ],
   "source": [
    "predict(model=model, test_dataloader=test_dataloader, device=DEVICE) #At this stage, it’s randomly initialized, meaning its parameters (weights and biases) have not been tuned to the data."
   ]
  },
  {
   "cell_type": "code",
   "execution_count": 60,
   "metadata": {},
   "outputs": [
    {
     "name": "stdout",
     "output_type": "stream",
     "text": [
      "Epoch 0: Loss=0.002221814139684041\n",
      "Epoch 1: Loss=0.0021324840744336446\n",
      "Epoch 2: Loss=0.0020151869038740793\n",
      "Epoch 3: Loss=0.0018692726234594982\n",
      "Epoch 4: Loss=0.001699982726573944\n",
      "Epoch 5: Loss=0.001518595677614212\n",
      "Epoch 6: Loss=0.0013432041307290395\n",
      "Epoch 7: Loss=0.0011885167638460794\n",
      "Epoch 8: Loss=0.001059989051024119\n",
      "Epoch 9: Loss=0.000955995707710584\n"
     ]
    }
   ],
   "source": [
    "# train for 10 epochs\n",
    "\n",
    "losses = fit(model=model, train_dataloader=train_dataloader, optimizer=optimizer, epochs=10,device=DEVICE)"
   ]
  },
  {
   "cell_type": "markdown",
   "metadata": {},
   "source": [
    "Let's visualize the loss progression."
   ]
  },
  {
   "cell_type": "code",
   "execution_count": 61,
   "metadata": {},
   "outputs": [
    {
     "data": {
      "text/plain": [
       "Text(0.5, 1.0, 'Loss progression across epochs')"
      ]
     },
     "execution_count": 61,
     "metadata": {},
     "output_type": "execute_result"
    },
    {
     "data": {
      "image/png": "[encoded data removed]",
      "text/plain": [
       "<Figure size 640x480 with 1 Axes>"
      ]
     },
     "metadata": {},
     "output_type": "display_data"
    }
   ],
   "source": [
    "plt.plot(losses)\n",
    "\n",
    "plt.xlabel('Epoch')\n",
    "plt.ylabel(\"Loss\")\n",
    "plt.title(\"Loss progression across epochs\")"
   ]
  },
  {
   "cell_type": "code",
   "execution_count": 62,
   "metadata": {},
   "outputs": [
    {
     "name": "stdout",
     "output_type": "stream",
     "text": [
      "Test set: Avg. loss: 0.0005, Accuracy: 8282/10000 (83%)\n"
     ]
    }
   ],
   "source": [
    "predict(model=model, test_dataloader=test_dataloader, device=DEVICE)"
   ]
  },
  {
   "cell_type": "markdown",
   "metadata": {},
   "source": [
    "The results are not very good. There are some major problems. We see from the plot above that the loss keeps dropping and does not \"plateau\". This indicates that we can run the optimization a few more epochs and improve the performance. Another point is that our learning rate is too slow or the selection of vanilla SGD as our optimizer is not optimal. In the next section we will see that simply changing the optimizer (from SGD to Adam) yields very different results!"
   ]
  },
  {
   "cell_type": "markdown",
   "metadata": {},
   "source": [
    "## Exercise 4: CNN\n",
    "\n",
    "## Evaluated Part\n",
    "\n",
    "Notice that the MLP does not take into account the nature of images: close pixels convey local information that is important. Using an MLP, we do not have the notion of the \"pixel neighbourhood\". We, therefore, neglect important information with an MLP. There are however models better suited for vision problems, such as Convolutional Neural Networks or CNNs.\n",
    "\n",
    "With the code structure we have created, we can simply define a CNN and test its performance quickly."
   ]
  },
  {
   "cell_type": "code",
   "execution_count": 63,
   "metadata": {},
   "outputs": [
    {
     "name": "stdout",
     "output_type": "stream",
     "text": [
      "Epoch 0: Loss=0.00038519899795452756\n",
      "Epoch 1: Loss=6.674951718499263e-05\n",
      "Epoch 2: Loss=4.5490436162799596e-05\n",
      "Epoch 3: Loss=3.6817218797902265e-05\n",
      "Epoch 4: Loss=3.21299321949482e-05\n",
      "Epoch 5: Loss=2.6508042604352037e-05\n",
      "Epoch 6: Loss=2.2616489107410113e-05\n",
      "Epoch 7: Loss=1.999606283692022e-05\n",
      "Epoch 8: Loss=1.8134722812101245e-05\n",
      "Epoch 9: Loss=1.5249042880410949e-05\n",
      "Epoch 10: Loss=1.3751563317297647e-05\n",
      "Epoch 11: Loss=1.1962442437652499e-05\n",
      "Epoch 12: Loss=1.0618207592051477e-05\n",
      "Epoch 13: Loss=8.891392780545478e-06\n",
      "Epoch 14: Loss=9.329334285575896e-06\n",
      "Test set: Avg. loss: 0.0000, Accuracy: 9882/10000 (99%)\n"
     ]
    },
    {
     "data": {
      "text/plain": [
       "Text(0.5, 1.0, 'Loss progression across epochs')"
      ]
     },
     "execution_count": 63,
     "metadata": {},
     "output_type": "execute_result"
    },
    {
     "data": {
      "image/png": "[encoded data removed]",
      "text/plain": [
       "<Figure size 640x480 with 1 Axes>"
      ]
     },
     "metadata": {},
     "output_type": "display_data"
    }
   ],
   "source": [
    "class CNN(nn.Module):                    #define a convolutional neural network class, so we can use it to train a CNN and run different experiments\n",
    "    def __init__(self):                  #constructor for the CNN class\n",
    "        super().__init__()               #call the constructor of the parent class (nn.Module) to initialize the object\n",
    "        \n",
    "        \n",
    "        self.conv_layers = nn.Sequential(                                                                               #nn.Sequential is a container module in PyTorch that allows you to stack layers and functions in a specified order. Each element is executed one after the other, so the input flows through each part sequentially.\n",
    "            nn.Conv2d(in_channels=1, out_channels=16, kernel_size=3, stride=1, padding=1),                              #nn.Conv2d is a class in PyTorch that applies a 2D convolution over an input signal composed of several input planes. It has several parameters: in_channels is the number of channels in the input image (1 for grayscale), out_channels is the number of channels produced by the convolution (so a 16 feature map), kernel_size is the size of the convolving kernel (so its gonna apply a 3x3 filter), stride is the stride of the convolution, and padding is the zero-padding added to both sides of the input.\n",
    "            nn.ReLU(),                                                                                                  #nn.ReLU is a class in PyTorch that applies the rectified linear unit function element-wise and its got no prmtrs\n",
    "            nn.MaxPool2d(kernel_size=2, stride=2),                                                                      #we downsample the image by 2\n",
    "            \n",
    "            nn.Conv2d(in_channels=16, out_channels=32, kernel_size=3, stride=1, padding=1),                             #same\n",
    "            nn.ReLU(),\n",
    "            nn.MaxPool2d(kernel_size=2, stride=2)  \n",
    "        )\n",
    "        \n",
    "        self.fc = nn.Linear(in_features=32 * 7 * 7, out_features=10)   #32 feature maps from second convolution, 7x7 size (bc we start from 28 and apply maxpool2d twice) 10 output neurons. The 3D feature map (32, 7, 7) is flattened into a 1D vector of size 1568.                                        \n",
    "    \n",
    "    def forward(self, x):    #forward pass of the CNN\n",
    "        \n",
    "        x = self.conv_layers(x)   #pass the input through the convolutional layers. Purpose: Extract spatial features from the input data (e.g., patterns, edges, textures, etc.).\n",
    "        \n",
    "        x = x.view(x.size(0), -1)   #flatten the 3D feature map to a 1D vector\n",
    "    \n",
    "        x = self.fc(x)    #pass the input through the fully connected layer. Purpose: Classify the input data based on the extracted features.\n",
    "        \n",
    "        return x\n",
    "    \n",
    "# initialize model\n",
    "cnn = CNN().to(DEVICE)\n",
    "\n",
    "# define the optimizer. Use Adam!!!!!!!!!!!!!!!!!!!!!!!!!!!!!!!!!!!!\n",
    "optimizer = optim.Adam(cnn.parameters(), lr=LEARNING_RATE)\n",
    "\n",
    "# train the CNN\n",
    "losses = fit(model=cnn, train_dataloader=train_dataloader,optimizer=optimizer,epochs=15,device=DEVICE)\n",
    "\n",
    "# How does the CNN perform compared to the MLP?\n",
    "predict(model=cnn, test_dataloader=test_dataloader, device=DEVICE)\n",
    "\n",
    "plt.plot(losses)\n",
    "\n",
    "plt.xlabel('Epoch')\n",
    "plt.ylabel(\"Loss\")\n",
    "plt.yscale('log')\n",
    "plt.title(\"Loss progression across epochs\")"
   ]
  },
  {
   "cell_type": "markdown",
   "metadata": {},
   "source": [
    "Accuracy is insane!"
   ]
  },
  {
   "cell_type": "markdown",
   "metadata": {},
   "source": [
    "# Part C: play with CIFAR10\n",
    "\n",
    "MNIST is a fairly simple dataset. What happens in more challenging datasets? Try to train a network on CIFAR10 dataset and see how it performs. You can use the same code as above, but you need to change the model architecture."
   ]
  },
  {
   "cell_type": "code",
   "execution_count": null,
   "metadata": {},
   "outputs": [
    {
     "name": "stdout",
     "output_type": "stream",
     "text": [
      "Downloading https://www.cs.toronto.edu/~kriz/cifar-10-python.tar.gz to ./data\\cifar-10-python.tar.gz\n"
     ]
    },
    {
     "name": "stderr",
     "output_type": "stream",
     "text": [
      "100.0%\n"
     ]
    },
    {
     "name": "stdout",
     "output_type": "stream",
     "text": [
      "Extracting ./data\\cifar-10-python.tar.gz to ./data\n",
      "Files already downloaded and verified\n",
      "Epoch 0: Loss=0.021457946491241456\n",
      "Epoch 1: Loss=0.015052664526700973\n",
      "Epoch 2: Loss=0.012566321081519127\n",
      "Epoch 3: Loss=0.010846231945157051\n",
      "Epoch 4: Loss=0.009517993980646133\n",
      "Epoch 5: Loss=0.008443611147999764\n",
      "Epoch 6: Loss=0.007426441507935524\n",
      "Epoch 7: Loss=0.00664425770252943\n",
      "Epoch 8: Loss=0.005816026386618614\n",
      "Epoch 9: Loss=0.005122315864115954\n",
      "Epoch 10: Loss=0.004517907768338918\n",
      "Epoch 11: Loss=0.003965148728266359\n",
      "Epoch 12: Loss=0.0034827890813350676\n",
      "Epoch 13: Loss=0.0030766754519194364\n",
      "Epoch 14: Loss=0.002595900987163186\n",
      "Test set: Avg. loss: 0.0176, Accuracy: 7524/10000 (75%)\n"
     ]
    },
    {
     "data": {
      "image/png": "[encoded data removed]",
      "text/plain": [
       "<Figure size 640x480 with 1 Axes>"
      ]
     },
     "metadata": {},
     "output_type": "display_data"
    }
   ],
   "source": [
    "#CNN for CIFAR10\n",
    "\n",
    "class CNN_CIFAR10(nn.Module):\n",
    "    def __init__(self):\n",
    "        super().__init__()\n",
    "\n",
    "        self.conv_layers = nn.Sequential(\n",
    "            nn.Conv2d(in_channels=3, out_channels=32, kernel_size=3, stride=1, padding=1),  #32x32 -> 32x32, 3 input channels (RGB), 32 output channels (feature maps), 3x3 kernel size\n",
    "            nn.ReLU(),\n",
    "            nn.MaxPool2d(kernel_size=2, stride=2),  #32x32 -> 16x16, downsample the image by 2\n",
    "\n",
    "            nn.Conv2d(in_channels=32, out_channels=64, kernel_size=3, stride=1, padding=1),  #16x16 -> 16x16, 32 input channels (feature maps), 64 output channels (feature maps), 3x3 kernel size\n",
    "            nn.ReLU(),\n",
    "            nn.MaxPool2d(kernel_size=2, stride=2),  #16x16 -> 8x8\n",
    "\n",
    "            nn.Conv2d(in_channels=64, out_channels=128, kernel_size=3, stride=1, padding=1),  #8x8 -> 8x8,  64 input channels (feature maps), 128 output channels (feature maps), 3x3 kernel size\n",
    "            nn.ReLU(),\n",
    "            nn.MaxPool2d(kernel_size=2, stride=2)  #8x8 -> 4x4\n",
    "        )\n",
    "\n",
    "        self.fc = nn.Linear(in_features=128 * 4 * 4, out_features=10)  # Flattened size: 128 * 4 * 4 = 2048, 10 output neurons\n",
    "\n",
    "    def forward(self, x):\n",
    "        x = self.conv_layers(x)  \n",
    "        x = x.view(x.size(0), -1)  \n",
    "        x = self.fc(x) \n",
    "        return x\n",
    "    \n",
    "#IMPORT THE DATA\n",
    "\n",
    "from torchvision import datasets, transforms\n",
    "from torch.utils.data import DataLoader\n",
    "\n",
    "transform = transforms.Compose([transforms.ToTensor(), transforms.Normalize(mean=[0.5, 0.5, 0.5], std=[0.5, 0.5, 0.5])])  #Normalize the image data, so that the pixel values are in the range [-1, 1]\n",
    "\n",
    "#load the CIFAR10 dataset\n",
    "train_dataset = datasets.CIFAR10(root='./data', train=True, download=True, transform=transform)\n",
    "test_dataset = datasets.CIFAR10(root='./data', train=False, download=True, transform=transform)\n",
    "\n",
    "#create the dataloaders for the training and testing datasets\n",
    "train_dataloader = DataLoader(train_dataset, batch_size=64, shuffle=True)\n",
    "test_dataloader = DataLoader(test_dataset, batch_size=64, shuffle=False)\n",
    "\n",
    "#RUN THE CNN ON CIFAR10\n",
    "\n",
    "#initialize the CNN for CIFAR10\n",
    "cnn_cifar10 = CNN_CIFAR10().to(DEVICE)\n",
    "# define the optimizer\n",
    "optimizer = optim.Adam(cnn_cifar10.parameters(), lr=0.001)\n",
    "#train the CNN on the CIFAR10 dataset\n",
    "losses = fit(model=cnn_cifar10, train_dataloader=train_dataloader, optimizer=optimizer, epochs=15, device=DEVICE)\n",
    "#evaluate the CNN on the CIFAR10 test dataset\n",
    "predict(model=cnn_cifar10, test_dataloader=test_dataloader, device=DEVICE)\n",
    "\n",
    "#PLOT\n",
    "plt.plot(losses)\n",
    "plt.xlabel('Epoch')\n",
    "plt.ylabel(\"Loss\")\n",
    "plt.yscale('log')\n",
    "plt.title(\"Loss progression across epochs (CIFAR10)\")\n",
    "plt.show()\n"
   ]
  }
 ],
 "metadata": {
  "kernelspec": {
   "display_name": "Python 3",
   "language": "python",
   "name": "python3"
  },
  "language_info": {
   "codemirror_mode": {
    "name": "ipython",
    "version": 3
   },
   "file_extension": ".py",
   "mimetype": "text/x-python",
   "name": "python",
   "nbconvert_exporter": "python",
   "pygments_lexer": "ipython3",
   "version": "3.12.1"
  }
 },
 "nbformat": 4,
 "nbformat_minor": 2
}
